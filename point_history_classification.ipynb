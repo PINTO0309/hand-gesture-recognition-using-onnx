{
  "cells": [
    {
      "cell_type": "code",
      "source": [
        "!pip uninstall -y tensorflow\n",
        "!pip install tensorflow==2.10.0"
      ],
      "metadata": {
        "colab": {
          "base_uri": "https://localhost:8080/",
          "height": 1000
        },
        "id": "ItK_Z3_izPdg",
        "outputId": "bca811fa-1fb2-42f1-abba-84ace26bb757"
      },
      "execution_count": 56,
      "outputs": [
        {
          "output_type": "stream",
          "name": "stdout",
          "text": [
            "Found existing installation: tensorflow 2.10.0\n",
            "Uninstalling tensorflow-2.10.0:\n",
            "  Successfully uninstalled tensorflow-2.10.0\n",
            "Looking in indexes: https://pypi.org/simple, https://us-python.pkg.dev/colab-wheels/public/simple/\n",
            "Collecting tensorflow==2.10.0\n",
            "  Using cached tensorflow-2.10.0-cp37-cp37m-manylinux_2_17_x86_64.manylinux2014_x86_64.whl (578.0 MB)\n",
            "Requirement already satisfied: tensorflow-io-gcs-filesystem>=0.23.1 in /usr/local/lib/python3.7/dist-packages (from tensorflow==2.10.0) (0.26.0)\n",
            "Requirement already satisfied: numpy>=1.20 in /usr/local/lib/python3.7/dist-packages (from tensorflow==2.10.0) (1.21.6)\n",
            "Requirement already satisfied: astunparse>=1.6.0 in /usr/local/lib/python3.7/dist-packages (from tensorflow==2.10.0) (1.6.3)\n",
            "Requirement already satisfied: keras-preprocessing>=1.1.1 in /usr/local/lib/python3.7/dist-packages (from tensorflow==2.10.0) (1.1.2)\n",
            "Requirement already satisfied: absl-py>=1.0.0 in /usr/local/lib/python3.7/dist-packages (from tensorflow==2.10.0) (1.2.0)\n",
            "Requirement already satisfied: setuptools in /usr/local/lib/python3.7/dist-packages (from tensorflow==2.10.0) (57.4.0)\n",
            "Requirement already satisfied: typing-extensions>=3.6.6 in /usr/local/lib/python3.7/dist-packages (from tensorflow==2.10.0) (4.1.1)\n",
            "Requirement already satisfied: google-pasta>=0.1.1 in /usr/local/lib/python3.7/dist-packages (from tensorflow==2.10.0) (0.2.0)\n",
            "Requirement already satisfied: grpcio<2.0,>=1.24.3 in /usr/local/lib/python3.7/dist-packages (from tensorflow==2.10.0) (1.48.1)\n",
            "Requirement already satisfied: six>=1.12.0 in /usr/local/lib/python3.7/dist-packages (from tensorflow==2.10.0) (1.15.0)\n",
            "Requirement already satisfied: flatbuffers>=2.0 in /usr/local/lib/python3.7/dist-packages (from tensorflow==2.10.0) (2.0.7)\n",
            "Requirement already satisfied: opt-einsum>=2.3.2 in /usr/local/lib/python3.7/dist-packages (from tensorflow==2.10.0) (3.3.0)\n",
            "Requirement already satisfied: termcolor>=1.1.0 in /usr/local/lib/python3.7/dist-packages (from tensorflow==2.10.0) (1.1.0)\n",
            "Requirement already satisfied: gast<=0.4.0,>=0.2.1 in /usr/local/lib/python3.7/dist-packages (from tensorflow==2.10.0) (0.4.0)\n",
            "Requirement already satisfied: libclang>=13.0.0 in /usr/local/lib/python3.7/dist-packages (from tensorflow==2.10.0) (14.0.6)\n",
            "Requirement already satisfied: tensorflow-estimator<2.11,>=2.10.0 in /usr/local/lib/python3.7/dist-packages (from tensorflow==2.10.0) (2.10.0)\n",
            "Requirement already satisfied: tensorboard<2.11,>=2.10 in /usr/local/lib/python3.7/dist-packages (from tensorflow==2.10.0) (2.10.0)\n",
            "Requirement already satisfied: protobuf<3.20,>=3.9.2 in /usr/local/lib/python3.7/dist-packages (from tensorflow==2.10.0) (3.17.3)\n",
            "Requirement already satisfied: keras<2.11,>=2.10.0 in /usr/local/lib/python3.7/dist-packages (from tensorflow==2.10.0) (2.10.0)\n",
            "Requirement already satisfied: packaging in /usr/local/lib/python3.7/dist-packages (from tensorflow==2.10.0) (21.3)\n",
            "Requirement already satisfied: h5py>=2.9.0 in /usr/local/lib/python3.7/dist-packages (from tensorflow==2.10.0) (3.1.0)\n",
            "Requirement already satisfied: wrapt>=1.11.0 in /usr/local/lib/python3.7/dist-packages (from tensorflow==2.10.0) (1.14.1)\n",
            "Requirement already satisfied: wheel<1.0,>=0.23.0 in /usr/local/lib/python3.7/dist-packages (from astunparse>=1.6.0->tensorflow==2.10.0) (0.37.1)\n",
            "Requirement already satisfied: cached-property in /usr/local/lib/python3.7/dist-packages (from h5py>=2.9.0->tensorflow==2.10.0) (1.5.2)\n",
            "Requirement already satisfied: google-auth<3,>=1.6.3 in /usr/local/lib/python3.7/dist-packages (from tensorboard<2.11,>=2.10->tensorflow==2.10.0) (1.35.0)\n",
            "Requirement already satisfied: google-auth-oauthlib<0.5,>=0.4.1 in /usr/local/lib/python3.7/dist-packages (from tensorboard<2.11,>=2.10->tensorflow==2.10.0) (0.4.6)\n",
            "Requirement already satisfied: requests<3,>=2.21.0 in /usr/local/lib/python3.7/dist-packages (from tensorboard<2.11,>=2.10->tensorflow==2.10.0) (2.23.0)\n",
            "Requirement already satisfied: tensorboard-data-server<0.7.0,>=0.6.0 in /usr/local/lib/python3.7/dist-packages (from tensorboard<2.11,>=2.10->tensorflow==2.10.0) (0.6.1)\n",
            "Requirement already satisfied: werkzeug>=1.0.1 in /usr/local/lib/python3.7/dist-packages (from tensorboard<2.11,>=2.10->tensorflow==2.10.0) (1.0.1)\n",
            "Requirement already satisfied: markdown>=2.6.8 in /usr/local/lib/python3.7/dist-packages (from tensorboard<2.11,>=2.10->tensorflow==2.10.0) (3.4.1)\n",
            "Requirement already satisfied: tensorboard-plugin-wit>=1.6.0 in /usr/local/lib/python3.7/dist-packages (from tensorboard<2.11,>=2.10->tensorflow==2.10.0) (1.8.1)\n",
            "Requirement already satisfied: cachetools<5.0,>=2.0.0 in /usr/local/lib/python3.7/dist-packages (from google-auth<3,>=1.6.3->tensorboard<2.11,>=2.10->tensorflow==2.10.0) (4.2.4)\n",
            "Requirement already satisfied: rsa<5,>=3.1.4 in /usr/local/lib/python3.7/dist-packages (from google-auth<3,>=1.6.3->tensorboard<2.11,>=2.10->tensorflow==2.10.0) (4.9)\n",
            "Requirement already satisfied: pyasn1-modules>=0.2.1 in /usr/local/lib/python3.7/dist-packages (from google-auth<3,>=1.6.3->tensorboard<2.11,>=2.10->tensorflow==2.10.0) (0.2.8)\n",
            "Requirement already satisfied: requests-oauthlib>=0.7.0 in /usr/local/lib/python3.7/dist-packages (from google-auth-oauthlib<0.5,>=0.4.1->tensorboard<2.11,>=2.10->tensorflow==2.10.0) (1.3.1)\n",
            "Requirement already satisfied: importlib-metadata>=4.4 in /usr/local/lib/python3.7/dist-packages (from markdown>=2.6.8->tensorboard<2.11,>=2.10->tensorflow==2.10.0) (4.12.0)\n",
            "Requirement already satisfied: zipp>=0.5 in /usr/local/lib/python3.7/dist-packages (from importlib-metadata>=4.4->markdown>=2.6.8->tensorboard<2.11,>=2.10->tensorflow==2.10.0) (3.8.1)\n",
            "Requirement already satisfied: pyasn1<0.5.0,>=0.4.6 in /usr/local/lib/python3.7/dist-packages (from pyasn1-modules>=0.2.1->google-auth<3,>=1.6.3->tensorboard<2.11,>=2.10->tensorflow==2.10.0) (0.4.8)\n",
            "Requirement already satisfied: idna<3,>=2.5 in /usr/local/lib/python3.7/dist-packages (from requests<3,>=2.21.0->tensorboard<2.11,>=2.10->tensorflow==2.10.0) (2.10)\n",
            "Requirement already satisfied: certifi>=2017.4.17 in /usr/local/lib/python3.7/dist-packages (from requests<3,>=2.21.0->tensorboard<2.11,>=2.10->tensorflow==2.10.0) (2022.6.15)\n",
            "Requirement already satisfied: chardet<4,>=3.0.2 in /usr/local/lib/python3.7/dist-packages (from requests<3,>=2.21.0->tensorboard<2.11,>=2.10->tensorflow==2.10.0) (3.0.4)\n",
            "Requirement already satisfied: urllib3!=1.25.0,!=1.25.1,<1.26,>=1.21.1 in /usr/local/lib/python3.7/dist-packages (from requests<3,>=2.21.0->tensorboard<2.11,>=2.10->tensorflow==2.10.0) (1.24.3)\n",
            "Requirement already satisfied: oauthlib>=3.0.0 in /usr/local/lib/python3.7/dist-packages (from requests-oauthlib>=0.7.0->google-auth-oauthlib<0.5,>=0.4.1->tensorboard<2.11,>=2.10->tensorflow==2.10.0) (3.2.0)\n",
            "Requirement already satisfied: pyparsing!=3.0.5,>=2.0.2 in /usr/local/lib/python3.7/dist-packages (from packaging->tensorflow==2.10.0) (3.0.9)\n",
            "Installing collected packages: tensorflow\n",
            "Successfully installed tensorflow-2.10.0\n"
          ]
        },
        {
          "output_type": "display_data",
          "data": {
            "application/vnd.colab-display-data+json": {
              "pip_warning": {
                "packages": [
                  "tensorflow"
                ]
              }
            }
          },
          "metadata": {}
        }
      ]
    },
    {
      "cell_type": "code",
      "execution_count": 57,
      "metadata": {
        "id": "Wzu_rvVOvIft"
      },
      "outputs": [],
      "source": [
        "import csv\n",
        "\n",
        "import numpy as np\n",
        "import tensorflow as tf\n",
        "from sklearn.model_selection import train_test_split\n",
        "\n",
        "RANDOM_SEED = 42"
      ]
    },
    {
      "cell_type": "code",
      "source": [
        "!pip show tensorflow"
      ],
      "metadata": {
        "colab": {
          "base_uri": "https://localhost:8080/"
        },
        "id": "2AcHvCTtvPrq",
        "outputId": "dcffe970-c837-4c3f-c5ab-15c74727e981"
      },
      "execution_count": 58,
      "outputs": [
        {
          "output_type": "stream",
          "name": "stdout",
          "text": [
            "Name: tensorflow\n",
            "Version: 2.10.0\n",
            "Summary: TensorFlow is an open source machine learning framework for everyone.\n",
            "Home-page: https://www.tensorflow.org/\n",
            "Author: Google Inc.\n",
            "Author-email: packages@tensorflow.org\n",
            "License: Apache 2.0\n",
            "Location: /usr/local/lib/python3.7/dist-packages\n",
            "Requires: six, h5py, numpy, tensorflow-estimator, astunparse, keras-preprocessing, packaging, google-pasta, opt-einsum, setuptools, typing-extensions, protobuf, gast, tensorflow-io-gcs-filesystem, wrapt, absl-py, grpcio, flatbuffers, tensorboard, keras, termcolor, libclang\n",
            "Required-by: kapre\n"
          ]
        }
      ]
    },
    {
      "cell_type": "markdown",
      "metadata": {
        "id": "fMJOOOb-vIfv"
      },
      "source": [
        "# 各パス指定"
      ]
    },
    {
      "cell_type": "code",
      "execution_count": 59,
      "metadata": {
        "id": "cJd8h9AuvIfw"
      },
      "outputs": [],
      "source": [
        "dataset = 'model/point_history_classifier/point_history.csv'\n",
        "model_save_path = 'model/point_history_classifier/point_history_classifier.hdf5'"
      ]
    },
    {
      "cell_type": "markdown",
      "metadata": {
        "id": "xvOgeU9ivIfw"
      },
      "source": [
        "# 分類数設定"
      ]
    },
    {
      "cell_type": "code",
      "execution_count": 60,
      "metadata": {
        "id": "yym-K6cpvIfw"
      },
      "outputs": [],
      "source": [
        "NUM_CLASSES = 4"
      ]
    },
    {
      "cell_type": "markdown",
      "metadata": {
        "id": "dYnBVymnvIfw"
      },
      "source": [
        "# 入力長"
      ]
    },
    {
      "cell_type": "code",
      "execution_count": 61,
      "metadata": {
        "id": "hvSD8ZomvIfx"
      },
      "outputs": [],
      "source": [
        "TIME_STEPS = 16\n",
        "DIMENSION = 2"
      ]
    },
    {
      "cell_type": "markdown",
      "metadata": {
        "id": "f6xy5JETvIfx"
      },
      "source": [
        "# 学習データ読み込み"
      ]
    },
    {
      "cell_type": "code",
      "execution_count": 62,
      "metadata": {
        "id": "OE4mDI5avIfx"
      },
      "outputs": [],
      "source": [
        "X_dataset = np.loadtxt(dataset, delimiter=',', dtype='float32', usecols=list(range(1, (TIME_STEPS * DIMENSION) + 1)))"
      ]
    },
    {
      "cell_type": "code",
      "execution_count": 63,
      "metadata": {
        "id": "yR2EP-vevIfy"
      },
      "outputs": [],
      "source": [
        "y_dataset = np.loadtxt(dataset, delimiter=',', dtype='int32', usecols=(0))"
      ]
    },
    {
      "cell_type": "code",
      "execution_count": 64,
      "metadata": {
        "id": "wyJf3nVTvIfy"
      },
      "outputs": [],
      "source": [
        "X_train, X_test, y_train, y_test = train_test_split(X_dataset, y_dataset, train_size=0.75, random_state=RANDOM_SEED)"
      ]
    },
    {
      "cell_type": "markdown",
      "metadata": {
        "id": "z1ec59e7vIfy"
      },
      "source": [
        "# モデル構築"
      ]
    },
    {
      "cell_type": "code",
      "execution_count": 85,
      "metadata": {
        "id": "SdvYbxIhvIfz"
      },
      "outputs": [],
      "source": [
        "use_lstm = True\n",
        "model = None\n",
        "\n",
        "if use_lstm:\n",
        "    model = tf.keras.models.Sequential([\n",
        "        tf.keras.layers.InputLayer(input_shape=(TIME_STEPS * DIMENSION, )),\n",
        "        tf.keras.layers.Reshape((TIME_STEPS, DIMENSION), input_shape=(TIME_STEPS * DIMENSION, )), \n",
        "        tf.keras.layers.Dropout(0.2),\n",
        "        # tf.keras.layers.LSTM(16, input_shape=[TIME_STEPS, DIMENSION]),\n",
        "        tf.keras.layers.LSTM(16, time_major=False, return_sequences=True),\n",
        "        tf.keras.layers.Flatten(),\n",
        "        tf.keras.layers.Dropout(0.5),\n",
        "        tf.keras.layers.Dense(10, activation='relu'),\n",
        "        tf.keras.layers.Dense(NUM_CLASSES, activation='softmax')\n",
        "    ])\n",
        "else:\n",
        "    model = tf.keras.models.Sequential([\n",
        "        tf.keras.layers.InputLayer(input_shape=(TIME_STEPS * DIMENSION, )),\n",
        "        tf.keras.layers.Dropout(0.2),\n",
        "        tf.keras.layers.Dense(24, activation='relu'),\n",
        "        tf.keras.layers.Dropout(0.5),\n",
        "        tf.keras.layers.Dense(10, activation='relu'),\n",
        "        tf.keras.layers.Dense(NUM_CLASSES, activation='softmax')\n",
        "    ])"
      ]
    },
    {
      "cell_type": "code",
      "execution_count": 86,
      "metadata": {
        "colab": {
          "base_uri": "https://localhost:8080/"
        },
        "id": "ldLE_fH0vIfz",
        "outputId": "da9b9b8e-a1e1-4b94-bdf8-6a2b63277b2b"
      },
      "outputs": [
        {
          "output_type": "stream",
          "name": "stdout",
          "text": [
            "Model: \"sequential_8\"\n",
            "_________________________________________________________________\n",
            " Layer (type)                Output Shape              Param #   \n",
            "=================================================================\n",
            " reshape_7 (Reshape)         (None, 16, 2)             0         \n",
            "                                                                 \n",
            " dropout_16 (Dropout)        (None, 16, 2)             0         \n",
            "                                                                 \n",
            " lstm_7 (LSTM)               (None, 16, 16)            1216      \n",
            "                                                                 \n",
            " flatten (Flatten)           (None, 256)               0         \n",
            "                                                                 \n",
            " dropout_17 (Dropout)        (None, 256)               0         \n",
            "                                                                 \n",
            " dense_17 (Dense)            (None, 10)                2570      \n",
            "                                                                 \n",
            " dense_18 (Dense)            (None, 4)                 44        \n",
            "                                                                 \n",
            "=================================================================\n",
            "Total params: 3,830\n",
            "Trainable params: 3,830\n",
            "Non-trainable params: 0\n",
            "_________________________________________________________________\n"
          ]
        }
      ],
      "source": [
        "model.summary()  # tf.keras.utils.plot_model(model, show_shapes=True)"
      ]
    },
    {
      "cell_type": "code",
      "execution_count": 87,
      "metadata": {
        "id": "6tmmL_z8vIfz"
      },
      "outputs": [],
      "source": [
        "# モデルチェックポイントのコールバック\n",
        "cp_callback = tf.keras.callbacks.ModelCheckpoint(\n",
        "    model_save_path, verbose=1, save_weights_only=False)\n",
        "# 早期打ち切り用コールバック\n",
        "es_callback = tf.keras.callbacks.EarlyStopping(patience=20, verbose=1)"
      ]
    },
    {
      "cell_type": "code",
      "execution_count": 88,
      "metadata": {
        "id": "bqg4IRS_vIf0"
      },
      "outputs": [],
      "source": [
        "# モデルコンパイル\n",
        "model.compile(\n",
        "    optimizer='adam',\n",
        "    loss='sparse_categorical_crossentropy',\n",
        "    metrics=['accuracy']\n",
        ")"
      ]
    },
    {
      "cell_type": "markdown",
      "metadata": {
        "id": "x69-vBJtvIf0"
      },
      "source": [
        "# モデル訓練"
      ]
    },
    {
      "cell_type": "code",
      "execution_count": 89,
      "metadata": {
        "scrolled": true,
        "colab": {
          "base_uri": "https://localhost:8080/"
        },
        "id": "BHSdQPNUvIf0",
        "outputId": "0afbfb52-aebb-45c6-9420-f5f68f51e995"
      },
      "outputs": [
        {
          "output_type": "stream",
          "name": "stdout",
          "text": [
            "Epoch 1/1000\n",
            "30/32 [===========================>..] - ETA: 0s - loss: 1.3844 - accuracy: 0.4057\n",
            "Epoch 1: saving model to model/point_history_classifier/point_history_classifier.hdf5\n",
            "32/32 [==============================] - 3s 32ms/step - loss: 1.3842 - accuracy: 0.4053 - val_loss: 1.3783 - val_accuracy: 0.3829\n",
            "Epoch 2/1000\n",
            "29/32 [==========================>...] - ETA: 0s - loss: 1.3752 - accuracy: 0.4006\n",
            "Epoch 2: saving model to model/point_history_classifier/point_history_classifier.hdf5\n",
            "32/32 [==============================] - 0s 14ms/step - loss: 1.3749 - accuracy: 0.4051 - val_loss: 1.3638 - val_accuracy: 0.4970\n",
            "Epoch 3/1000\n",
            "29/32 [==========================>...] - ETA: 0s - loss: 1.3510 - accuracy: 0.5178\n",
            "Epoch 3: saving model to model/point_history_classifier/point_history_classifier.hdf5\n",
            "32/32 [==============================] - 0s 14ms/step - loss: 1.3497 - accuracy: 0.5171 - val_loss: 1.3191 - val_accuracy: 0.5521\n",
            "Epoch 4/1000\n",
            "31/32 [============================>.] - ETA: 0s - loss: 1.2767 - accuracy: 0.5554\n",
            "Epoch 4: saving model to model/point_history_classifier/point_history_classifier.hdf5\n",
            "32/32 [==============================] - 0s 15ms/step - loss: 1.2767 - accuracy: 0.5554 - val_loss: 1.2043 - val_accuracy: 0.6813\n",
            "Epoch 5/1000\n",
            "32/32 [==============================] - ETA: 0s - loss: 1.1583 - accuracy: 0.6032\n",
            "Epoch 5: saving model to model/point_history_classifier/point_history_classifier.hdf5\n",
            "32/32 [==============================] - 0s 14ms/step - loss: 1.1583 - accuracy: 0.6032 - val_loss: 1.0854 - val_accuracy: 0.6571\n",
            "Epoch 6/1000\n",
            "30/32 [===========================>..] - ETA: 0s - loss: 1.0566 - accuracy: 0.6346\n",
            "Epoch 6: saving model to model/point_history_classifier/point_history_classifier.hdf5\n",
            "32/32 [==============================] - 0s 15ms/step - loss: 1.0565 - accuracy: 0.6324 - val_loss: 0.9781 - val_accuracy: 0.6654\n",
            "Epoch 7/1000\n",
            "31/32 [============================>.] - ETA: 0s - loss: 0.9595 - accuracy: 0.6399\n",
            "Epoch 7: saving model to model/point_history_classifier/point_history_classifier.hdf5\n",
            "32/32 [==============================] - 0s 14ms/step - loss: 0.9590 - accuracy: 0.6402 - val_loss: 0.8552 - val_accuracy: 0.6979\n",
            "Epoch 8/1000\n",
            "28/32 [=========================>....] - ETA: 0s - loss: 0.8683 - accuracy: 0.6521\n",
            "Epoch 8: saving model to model/point_history_classifier/point_history_classifier.hdf5\n",
            "32/32 [==============================] - 0s 13ms/step - loss: 0.8646 - accuracy: 0.6526 - val_loss: 0.7949 - val_accuracy: 0.6971\n",
            "Epoch 9/1000\n",
            "31/32 [============================>.] - ETA: 0s - loss: 0.8014 - accuracy: 0.6673\n",
            "Epoch 9: saving model to model/point_history_classifier/point_history_classifier.hdf5\n",
            "32/32 [==============================] - 0s 14ms/step - loss: 0.8012 - accuracy: 0.6674 - val_loss: 0.7326 - val_accuracy: 0.6956\n",
            "Epoch 10/1000\n",
            "30/32 [===========================>..] - ETA: 0s - loss: 0.7718 - accuracy: 0.6719\n",
            "Epoch 10: saving model to model/point_history_classifier/point_history_classifier.hdf5\n",
            "32/32 [==============================] - 0s 14ms/step - loss: 0.7710 - accuracy: 0.6725 - val_loss: 0.7005 - val_accuracy: 0.7077\n",
            "Epoch 11/1000\n",
            "30/32 [===========================>..] - ETA: 0s - loss: 0.7443 - accuracy: 0.6831\n",
            "Epoch 11: saving model to model/point_history_classifier/point_history_classifier.hdf5\n",
            "32/32 [==============================] - 0s 14ms/step - loss: 0.7468 - accuracy: 0.6813 - val_loss: 0.6786 - val_accuracy: 0.7304\n",
            "Epoch 12/1000\n",
            "30/32 [===========================>..] - ETA: 0s - loss: 0.7367 - accuracy: 0.6885\n",
            "Epoch 12: saving model to model/point_history_classifier/point_history_classifier.hdf5\n",
            "32/32 [==============================] - 0s 14ms/step - loss: 0.7361 - accuracy: 0.6873 - val_loss: 0.6484 - val_accuracy: 0.7394\n",
            "Epoch 13/1000\n",
            "31/32 [============================>.] - ETA: 0s - loss: 0.7127 - accuracy: 0.6941\n",
            "Epoch 13: saving model to model/point_history_classifier/point_history_classifier.hdf5\n",
            "32/32 [==============================] - 0s 14ms/step - loss: 0.7123 - accuracy: 0.6944 - val_loss: 0.6139 - val_accuracy: 0.7523\n",
            "Epoch 14/1000\n",
            "31/32 [============================>.] - ETA: 0s - loss: 0.6968 - accuracy: 0.7006\n",
            "Epoch 14: saving model to model/point_history_classifier/point_history_classifier.hdf5\n",
            "32/32 [==============================] - 0s 14ms/step - loss: 0.6975 - accuracy: 0.7004 - val_loss: 0.8008 - val_accuracy: 0.7069\n",
            "Epoch 15/1000\n",
            "29/32 [==========================>...] - ETA: 0s - loss: 0.7500 - accuracy: 0.6910\n",
            "Epoch 15: saving model to model/point_history_classifier/point_history_classifier.hdf5\n",
            "32/32 [==============================] - 0s 14ms/step - loss: 0.7521 - accuracy: 0.6873 - val_loss: 0.6021 - val_accuracy: 0.7545\n",
            "Epoch 16/1000\n",
            "31/32 [============================>.] - ETA: 0s - loss: 0.6690 - accuracy: 0.7180\n",
            "Epoch 16: saving model to model/point_history_classifier/point_history_classifier.hdf5\n",
            "32/32 [==============================] - 0s 14ms/step - loss: 0.6686 - accuracy: 0.7183 - val_loss: 0.6044 - val_accuracy: 0.7553\n",
            "Epoch 17/1000\n",
            "29/32 [==========================>...] - ETA: 0s - loss: 0.6666 - accuracy: 0.7201\n",
            "Epoch 17: saving model to model/point_history_classifier/point_history_classifier.hdf5\n",
            "32/32 [==============================] - 0s 15ms/step - loss: 0.6670 - accuracy: 0.7198 - val_loss: 0.5772 - val_accuracy: 0.7704\n",
            "Epoch 18/1000\n",
            "31/32 [============================>.] - ETA: 0s - loss: 0.6645 - accuracy: 0.7213\n",
            "Epoch 18: saving model to model/point_history_classifier/point_history_classifier.hdf5\n",
            "32/32 [==============================] - 0s 14ms/step - loss: 0.6641 - accuracy: 0.7216 - val_loss: 0.5731 - val_accuracy: 0.7681\n",
            "Epoch 19/1000\n",
            "27/32 [========================>.....] - ETA: 0s - loss: 0.6539 - accuracy: 0.7211\n",
            "Epoch 19: saving model to model/point_history_classifier/point_history_classifier.hdf5\n",
            "32/32 [==============================] - 0s 13ms/step - loss: 0.6510 - accuracy: 0.7228 - val_loss: 0.5599 - val_accuracy: 0.7802\n",
            "Epoch 20/1000\n",
            "28/32 [=========================>....] - ETA: 0s - loss: 0.6466 - accuracy: 0.7263\n",
            "Epoch 20: saving model to model/point_history_classifier/point_history_classifier.hdf5\n",
            "32/32 [==============================] - 0s 13ms/step - loss: 0.6393 - accuracy: 0.7311 - val_loss: 0.5467 - val_accuracy: 0.7764\n",
            "Epoch 21/1000\n",
            "29/32 [==========================>...] - ETA: 0s - loss: 0.6246 - accuracy: 0.7317\n",
            "Epoch 21: saving model to model/point_history_classifier/point_history_classifier.hdf5\n",
            "32/32 [==============================] - 0s 12ms/step - loss: 0.6221 - accuracy: 0.7331 - val_loss: 0.5332 - val_accuracy: 0.7923\n",
            "Epoch 22/1000\n",
            "28/32 [=========================>....] - ETA: 0s - loss: 0.6064 - accuracy: 0.7450\n",
            "Epoch 22: saving model to model/point_history_classifier/point_history_classifier.hdf5\n",
            "32/32 [==============================] - 0s 13ms/step - loss: 0.6023 - accuracy: 0.7467 - val_loss: 0.5204 - val_accuracy: 0.8006\n",
            "Epoch 23/1000\n",
            "29/32 [==========================>...] - ETA: 0s - loss: 0.6027 - accuracy: 0.7513\n",
            "Epoch 23: saving model to model/point_history_classifier/point_history_classifier.hdf5\n",
            "32/32 [==============================] - 0s 13ms/step - loss: 0.6030 - accuracy: 0.7520 - val_loss: 0.5041 - val_accuracy: 0.8082\n",
            "Epoch 24/1000\n",
            "27/32 [========================>.....] - ETA: 0s - loss: 0.5979 - accuracy: 0.7477\n",
            "Epoch 24: saving model to model/point_history_classifier/point_history_classifier.hdf5\n",
            "32/32 [==============================] - 0s 13ms/step - loss: 0.6018 - accuracy: 0.7452 - val_loss: 0.4959 - val_accuracy: 0.8218\n",
            "Epoch 25/1000\n",
            "30/32 [===========================>..] - ETA: 0s - loss: 0.5834 - accuracy: 0.7672\n",
            "Epoch 25: saving model to model/point_history_classifier/point_history_classifier.hdf5\n",
            "32/32 [==============================] - 0s 12ms/step - loss: 0.5862 - accuracy: 0.7646 - val_loss: 0.4872 - val_accuracy: 0.8089\n",
            "Epoch 26/1000\n",
            "32/32 [==============================] - ETA: 0s - loss: 0.5870 - accuracy: 0.7679\n",
            "Epoch 26: saving model to model/point_history_classifier/point_history_classifier.hdf5\n",
            "32/32 [==============================] - 0s 14ms/step - loss: 0.5870 - accuracy: 0.7679 - val_loss: 0.4882 - val_accuracy: 0.8134\n",
            "Epoch 27/1000\n",
            "30/32 [===========================>..] - ETA: 0s - loss: 0.5501 - accuracy: 0.7768\n",
            "Epoch 27: saving model to model/point_history_classifier/point_history_classifier.hdf5\n",
            "32/32 [==============================] - 0s 15ms/step - loss: 0.5517 - accuracy: 0.7749 - val_loss: 0.4648 - val_accuracy: 0.8255\n",
            "Epoch 28/1000\n",
            "30/32 [===========================>..] - ETA: 0s - loss: 0.5451 - accuracy: 0.7784\n",
            "Epoch 28: saving model to model/point_history_classifier/point_history_classifier.hdf5\n",
            "32/32 [==============================] - 0s 14ms/step - loss: 0.5467 - accuracy: 0.7782 - val_loss: 0.4619 - val_accuracy: 0.8293\n",
            "Epoch 29/1000\n",
            "31/32 [============================>.] - ETA: 0s - loss: 0.5419 - accuracy: 0.7823\n",
            "Epoch 29: saving model to model/point_history_classifier/point_history_classifier.hdf5\n",
            "32/32 [==============================] - 0s 13ms/step - loss: 0.5417 - accuracy: 0.7822 - val_loss: 0.4458 - val_accuracy: 0.8437\n",
            "Epoch 30/1000\n",
            "29/32 [==========================>...] - ETA: 0s - loss: 0.5214 - accuracy: 0.7985\n",
            "Epoch 30: saving model to model/point_history_classifier/point_history_classifier.hdf5\n",
            "32/32 [==============================] - 0s 13ms/step - loss: 0.5254 - accuracy: 0.7961 - val_loss: 0.4296 - val_accuracy: 0.8527\n",
            "Epoch 31/1000\n",
            "31/32 [============================>.] - ETA: 0s - loss: 0.5268 - accuracy: 0.7873\n",
            "Epoch 31: saving model to model/point_history_classifier/point_history_classifier.hdf5\n",
            "32/32 [==============================] - 0s 13ms/step - loss: 0.5267 - accuracy: 0.7873 - val_loss: 0.4253 - val_accuracy: 0.8505\n",
            "Epoch 32/1000\n",
            "32/32 [==============================] - ETA: 0s - loss: 0.5059 - accuracy: 0.8059\n",
            "Epoch 32: saving model to model/point_history_classifier/point_history_classifier.hdf5\n",
            "32/32 [==============================] - 0s 13ms/step - loss: 0.5059 - accuracy: 0.8059 - val_loss: 0.4159 - val_accuracy: 0.8595\n",
            "Epoch 33/1000\n",
            "30/32 [===========================>..] - ETA: 0s - loss: 0.5121 - accuracy: 0.8107\n",
            "Epoch 33: saving model to model/point_history_classifier/point_history_classifier.hdf5\n",
            "32/32 [==============================] - 0s 14ms/step - loss: 0.5105 - accuracy: 0.8112 - val_loss: 0.4011 - val_accuracy: 0.8648\n",
            "Epoch 34/1000\n",
            "28/32 [=========================>....] - ETA: 0s - loss: 0.4965 - accuracy: 0.8145\n",
            "Epoch 34: saving model to model/point_history_classifier/point_history_classifier.hdf5\n",
            "32/32 [==============================] - 0s 14ms/step - loss: 0.4943 - accuracy: 0.8139 - val_loss: 0.4035 - val_accuracy: 0.8467\n",
            "Epoch 35/1000\n",
            "31/32 [============================>.] - ETA: 0s - loss: 0.4925 - accuracy: 0.8150\n",
            "Epoch 35: saving model to model/point_history_classifier/point_history_classifier.hdf5\n",
            "32/32 [==============================] - 0s 14ms/step - loss: 0.4921 - accuracy: 0.8152 - val_loss: 0.3954 - val_accuracy: 0.8678\n",
            "Epoch 36/1000\n",
            "31/32 [============================>.] - ETA: 0s - loss: 0.4708 - accuracy: 0.8264\n",
            "Epoch 36: saving model to model/point_history_classifier/point_history_classifier.hdf5\n",
            "32/32 [==============================] - 0s 13ms/step - loss: 0.4714 - accuracy: 0.8263 - val_loss: 0.4309 - val_accuracy: 0.8671\n",
            "Epoch 37/1000\n",
            "27/32 [========================>.....] - ETA: 0s - loss: 0.5032 - accuracy: 0.8235\n",
            "Epoch 37: saving model to model/point_history_classifier/point_history_classifier.hdf5\n",
            "32/32 [==============================] - 0s 13ms/step - loss: 0.4936 - accuracy: 0.8273 - val_loss: 0.3673 - val_accuracy: 0.8912\n",
            "Epoch 38/1000\n",
            "32/32 [==============================] - ETA: 0s - loss: 0.4688 - accuracy: 0.8336\n",
            "Epoch 38: saving model to model/point_history_classifier/point_history_classifier.hdf5\n",
            "32/32 [==============================] - 0s 15ms/step - loss: 0.4688 - accuracy: 0.8336 - val_loss: 0.3618 - val_accuracy: 0.8912\n",
            "Epoch 39/1000\n",
            "31/32 [============================>.] - ETA: 0s - loss: 0.4529 - accuracy: 0.8349\n",
            "Epoch 39: saving model to model/point_history_classifier/point_history_classifier.hdf5\n",
            "32/32 [==============================] - 0s 14ms/step - loss: 0.4526 - accuracy: 0.8351 - val_loss: 0.3537 - val_accuracy: 0.8905\n",
            "Epoch 40/1000\n",
            "30/32 [===========================>..] - ETA: 0s - loss: 0.4277 - accuracy: 0.8482\n",
            "Epoch 40: saving model to model/point_history_classifier/point_history_classifier.hdf5\n",
            "32/32 [==============================] - 0s 14ms/step - loss: 0.4308 - accuracy: 0.8469 - val_loss: 0.3449 - val_accuracy: 0.8905\n",
            "Epoch 41/1000\n",
            "30/32 [===========================>..] - ETA: 0s - loss: 0.4435 - accuracy: 0.8323\n",
            "Epoch 41: saving model to model/point_history_classifier/point_history_classifier.hdf5\n",
            "32/32 [==============================] - 0s 13ms/step - loss: 0.4434 - accuracy: 0.8323 - val_loss: 0.3384 - val_accuracy: 0.8980\n",
            "Epoch 42/1000\n",
            "31/32 [============================>.] - ETA: 0s - loss: 0.4323 - accuracy: 0.8531\n",
            "Epoch 42: saving model to model/point_history_classifier/point_history_classifier.hdf5\n",
            "32/32 [==============================] - 0s 14ms/step - loss: 0.4320 - accuracy: 0.8532 - val_loss: 0.3429 - val_accuracy: 0.8943\n",
            "Epoch 43/1000\n",
            "28/32 [=========================>....] - ETA: 0s - loss: 0.4346 - accuracy: 0.8446\n",
            "Epoch 43: saving model to model/point_history_classifier/point_history_classifier.hdf5\n",
            "32/32 [==============================] - 0s 13ms/step - loss: 0.4305 - accuracy: 0.8469 - val_loss: 0.3223 - val_accuracy: 0.9048\n",
            "Epoch 44/1000\n",
            "28/32 [=========================>....] - ETA: 0s - loss: 0.4210 - accuracy: 0.8524\n",
            "Epoch 44: saving model to model/point_history_classifier/point_history_classifier.hdf5\n",
            "32/32 [==============================] - 0s 13ms/step - loss: 0.4224 - accuracy: 0.8510 - val_loss: 0.3161 - val_accuracy: 0.9063\n",
            "Epoch 45/1000\n",
            "27/32 [========================>.....] - ETA: 0s - loss: 0.4163 - accuracy: 0.8608\n",
            "Epoch 45: saving model to model/point_history_classifier/point_history_classifier.hdf5\n",
            "32/32 [==============================] - 0s 13ms/step - loss: 0.4159 - accuracy: 0.8595 - val_loss: 0.3200 - val_accuracy: 0.9003\n",
            "Epoch 46/1000\n",
            "28/32 [=========================>....] - ETA: 0s - loss: 0.4046 - accuracy: 0.8574\n",
            "Epoch 46: saving model to model/point_history_classifier/point_history_classifier.hdf5\n",
            "32/32 [==============================] - 0s 13ms/step - loss: 0.4047 - accuracy: 0.8583 - val_loss: 0.3125 - val_accuracy: 0.9018\n",
            "Epoch 47/1000\n",
            "30/32 [===========================>..] - ETA: 0s - loss: 0.3877 - accuracy: 0.8721\n",
            "Epoch 47: saving model to model/point_history_classifier/point_history_classifier.hdf5\n",
            "32/32 [==============================] - 0s 14ms/step - loss: 0.3881 - accuracy: 0.8716 - val_loss: 0.2984 - val_accuracy: 0.9109\n",
            "Epoch 48/1000\n",
            "30/32 [===========================>..] - ETA: 0s - loss: 0.3961 - accuracy: 0.8669\n",
            "Epoch 48: saving model to model/point_history_classifier/point_history_classifier.hdf5\n",
            "32/32 [==============================] - 0s 14ms/step - loss: 0.3929 - accuracy: 0.8671 - val_loss: 0.3035 - val_accuracy: 0.9033\n",
            "Epoch 49/1000\n",
            "29/32 [==========================>...] - ETA: 0s - loss: 0.3809 - accuracy: 0.8731\n",
            "Epoch 49: saving model to model/point_history_classifier/point_history_classifier.hdf5\n",
            "32/32 [==============================] - 0s 14ms/step - loss: 0.3777 - accuracy: 0.8739 - val_loss: 0.2930 - val_accuracy: 0.9063\n",
            "Epoch 50/1000\n",
            "27/32 [========================>.....] - ETA: 0s - loss: 0.3712 - accuracy: 0.8756\n",
            "Epoch 50: saving model to model/point_history_classifier/point_history_classifier.hdf5\n",
            "32/32 [==============================] - 0s 13ms/step - loss: 0.3742 - accuracy: 0.8729 - val_loss: 0.2786 - val_accuracy: 0.9184\n",
            "Epoch 51/1000\n",
            "32/32 [==============================] - ETA: 0s - loss: 0.3734 - accuracy: 0.8698\n",
            "Epoch 51: saving model to model/point_history_classifier/point_history_classifier.hdf5\n",
            "32/32 [==============================] - 0s 13ms/step - loss: 0.3734 - accuracy: 0.8698 - val_loss: 0.2711 - val_accuracy: 0.9230\n",
            "Epoch 52/1000\n",
            "31/32 [============================>.] - ETA: 0s - loss: 0.3715 - accuracy: 0.8755\n",
            "Epoch 52: saving model to model/point_history_classifier/point_history_classifier.hdf5\n",
            "32/32 [==============================] - 0s 14ms/step - loss: 0.3713 - accuracy: 0.8756 - val_loss: 0.2616 - val_accuracy: 0.9275\n",
            "Epoch 53/1000\n",
            "30/32 [===========================>..] - ETA: 0s - loss: 0.3674 - accuracy: 0.8716\n",
            "Epoch 53: saving model to model/point_history_classifier/point_history_classifier.hdf5\n",
            "32/32 [==============================] - 0s 13ms/step - loss: 0.3663 - accuracy: 0.8729 - val_loss: 0.2667 - val_accuracy: 0.9237\n",
            "Epoch 54/1000\n",
            "32/32 [==============================] - ETA: 0s - loss: 0.3542 - accuracy: 0.8802\n",
            "Epoch 54: saving model to model/point_history_classifier/point_history_classifier.hdf5\n",
            "32/32 [==============================] - 1s 16ms/step - loss: 0.3542 - accuracy: 0.8802 - val_loss: 0.2510 - val_accuracy: 0.9305\n",
            "Epoch 55/1000\n",
            "32/32 [==============================] - ETA: 0s - loss: 0.3549 - accuracy: 0.8802\n",
            "Epoch 55: saving model to model/point_history_classifier/point_history_classifier.hdf5\n",
            "32/32 [==============================] - 1s 23ms/step - loss: 0.3549 - accuracy: 0.8802 - val_loss: 0.2439 - val_accuracy: 0.9350\n",
            "Epoch 56/1000\n",
            "30/32 [===========================>..] - ETA: 0s - loss: 0.3443 - accuracy: 0.8833\n",
            "Epoch 56: saving model to model/point_history_classifier/point_history_classifier.hdf5\n",
            "32/32 [==============================] - 1s 20ms/step - loss: 0.3431 - accuracy: 0.8834 - val_loss: 0.2429 - val_accuracy: 0.9350\n",
            "Epoch 57/1000\n",
            "31/32 [============================>.] - ETA: 0s - loss: 0.3566 - accuracy: 0.8833\n",
            "Epoch 57: saving model to model/point_history_classifier/point_history_classifier.hdf5\n",
            "32/32 [==============================] - 1s 20ms/step - loss: 0.3568 - accuracy: 0.8829 - val_loss: 0.2382 - val_accuracy: 0.9418\n",
            "Epoch 58/1000\n",
            "29/32 [==========================>...] - ETA: 0s - loss: 0.3463 - accuracy: 0.8807\n",
            "Epoch 58: saving model to model/point_history_classifier/point_history_classifier.hdf5\n",
            "32/32 [==============================] - 1s 22ms/step - loss: 0.3428 - accuracy: 0.8822 - val_loss: 0.2388 - val_accuracy: 0.9403\n",
            "Epoch 59/1000\n",
            "32/32 [==============================] - ETA: 0s - loss: 0.3151 - accuracy: 0.8975\n",
            "Epoch 59: saving model to model/point_history_classifier/point_history_classifier.hdf5\n",
            "32/32 [==============================] - 1s 26ms/step - loss: 0.3151 - accuracy: 0.8975 - val_loss: 0.2278 - val_accuracy: 0.9418\n",
            "Epoch 60/1000\n",
            "31/32 [============================>.] - ETA: 0s - loss: 0.3160 - accuracy: 0.8936\n",
            "Epoch 60: saving model to model/point_history_classifier/point_history_classifier.hdf5\n",
            "32/32 [==============================] - 0s 16ms/step - loss: 0.3158 - accuracy: 0.8938 - val_loss: 0.2157 - val_accuracy: 0.9486\n",
            "Epoch 61/1000\n",
            "30/32 [===========================>..] - ETA: 0s - loss: 0.3079 - accuracy: 0.8995\n",
            "Epoch 61: saving model to model/point_history_classifier/point_history_classifier.hdf5\n",
            "32/32 [==============================] - 1s 22ms/step - loss: 0.3047 - accuracy: 0.9011 - val_loss: 0.2080 - val_accuracy: 0.9502\n",
            "Epoch 62/1000\n",
            "31/32 [============================>.] - ETA: 0s - loss: 0.3035 - accuracy: 0.9040\n",
            "Epoch 62: saving model to model/point_history_classifier/point_history_classifier.hdf5\n",
            "32/32 [==============================] - 1s 24ms/step - loss: 0.3034 - accuracy: 0.9041 - val_loss: 0.2030 - val_accuracy: 0.9532\n",
            "Epoch 63/1000\n",
            "30/32 [===========================>..] - ETA: 0s - loss: 0.2948 - accuracy: 0.9047\n",
            "Epoch 63: saving model to model/point_history_classifier/point_history_classifier.hdf5\n",
            "32/32 [==============================] - 1s 24ms/step - loss: 0.2933 - accuracy: 0.9053 - val_loss: 0.1974 - val_accuracy: 0.9532\n",
            "Epoch 64/1000\n",
            "31/32 [============================>.] - ETA: 0s - loss: 0.2923 - accuracy: 0.9131\n",
            "Epoch 64: saving model to model/point_history_classifier/point_history_classifier.hdf5\n",
            "32/32 [==============================] - 1s 36ms/step - loss: 0.2920 - accuracy: 0.9131 - val_loss: 0.1957 - val_accuracy: 0.9554\n",
            "Epoch 65/1000\n",
            "30/32 [===========================>..] - ETA: 0s - loss: 0.2748 - accuracy: 0.9154\n",
            "Epoch 65: saving model to model/point_history_classifier/point_history_classifier.hdf5\n",
            "32/32 [==============================] - 1s 27ms/step - loss: 0.2748 - accuracy: 0.9157 - val_loss: 0.2008 - val_accuracy: 0.9524\n",
            "Epoch 66/1000\n",
            "30/32 [===========================>..] - ETA: 0s - loss: 0.2673 - accuracy: 0.9177\n",
            "Epoch 66: saving model to model/point_history_classifier/point_history_classifier.hdf5\n",
            "32/32 [==============================] - 0s 15ms/step - loss: 0.2678 - accuracy: 0.9174 - val_loss: 0.1925 - val_accuracy: 0.9554\n",
            "Epoch 67/1000\n",
            "32/32 [==============================] - ETA: 0s - loss: 0.2648 - accuracy: 0.9187\n",
            "Epoch 67: saving model to model/point_history_classifier/point_history_classifier.hdf5\n",
            "32/32 [==============================] - 0s 13ms/step - loss: 0.2648 - accuracy: 0.9187 - val_loss: 0.1854 - val_accuracy: 0.9577\n",
            "Epoch 68/1000\n",
            "32/32 [==============================] - ETA: 0s - loss: 0.2585 - accuracy: 0.9225\n",
            "Epoch 68: saving model to model/point_history_classifier/point_history_classifier.hdf5\n",
            "32/32 [==============================] - 0s 13ms/step - loss: 0.2585 - accuracy: 0.9225 - val_loss: 0.1793 - val_accuracy: 0.9615\n",
            "Epoch 69/1000\n",
            "31/32 [============================>.] - ETA: 0s - loss: 0.2556 - accuracy: 0.9186\n",
            "Epoch 69: saving model to model/point_history_classifier/point_history_classifier.hdf5\n",
            "32/32 [==============================] - 0s 14ms/step - loss: 0.2553 - accuracy: 0.9187 - val_loss: 0.1739 - val_accuracy: 0.9630\n",
            "Epoch 70/1000\n",
            "29/32 [==========================>...] - ETA: 0s - loss: 0.2582 - accuracy: 0.9211\n",
            "Epoch 70: saving model to model/point_history_classifier/point_history_classifier.hdf5\n",
            "32/32 [==============================] - 0s 15ms/step - loss: 0.2593 - accuracy: 0.9204 - val_loss: 0.1769 - val_accuracy: 0.9585\n",
            "Epoch 71/1000\n",
            "28/32 [=========================>....] - ETA: 0s - loss: 0.2566 - accuracy: 0.9216\n",
            "Epoch 71: saving model to model/point_history_classifier/point_history_classifier.hdf5\n",
            "32/32 [==============================] - 0s 16ms/step - loss: 0.2519 - accuracy: 0.9230 - val_loss: 0.1704 - val_accuracy: 0.9630\n",
            "Epoch 72/1000\n",
            "31/32 [============================>.] - ETA: 0s - loss: 0.2503 - accuracy: 0.9264\n",
            "Epoch 72: saving model to model/point_history_classifier/point_history_classifier.hdf5\n",
            "32/32 [==============================] - 0s 14ms/step - loss: 0.2502 - accuracy: 0.9265 - val_loss: 0.1681 - val_accuracy: 0.9607\n",
            "Epoch 73/1000\n",
            "30/32 [===========================>..] - ETA: 0s - loss: 0.2405 - accuracy: 0.9305\n",
            "Epoch 73: saving model to model/point_history_classifier/point_history_classifier.hdf5\n",
            "32/32 [==============================] - 0s 14ms/step - loss: 0.2379 - accuracy: 0.9308 - val_loss: 0.1657 - val_accuracy: 0.9622\n",
            "Epoch 74/1000\n",
            "27/32 [========================>.....] - ETA: 0s - loss: 0.2324 - accuracy: 0.9294\n",
            "Epoch 74: saving model to model/point_history_classifier/point_history_classifier.hdf5\n",
            "32/32 [==============================] - 0s 13ms/step - loss: 0.2358 - accuracy: 0.9290 - val_loss: 0.1642 - val_accuracy: 0.9630\n",
            "Epoch 75/1000\n",
            "27/32 [========================>.....] - ETA: 0s - loss: 0.2374 - accuracy: 0.9280\n",
            "Epoch 75: saving model to model/point_history_classifier/point_history_classifier.hdf5\n",
            "32/32 [==============================] - 0s 13ms/step - loss: 0.2370 - accuracy: 0.9290 - val_loss: 0.1586 - val_accuracy: 0.9637\n",
            "Epoch 76/1000\n",
            "31/32 [============================>.] - ETA: 0s - loss: 0.2330 - accuracy: 0.9307\n",
            "Epoch 76: saving model to model/point_history_classifier/point_history_classifier.hdf5\n",
            "32/32 [==============================] - 0s 13ms/step - loss: 0.2328 - accuracy: 0.9308 - val_loss: 0.1612 - val_accuracy: 0.9630\n",
            "Epoch 77/1000\n",
            "28/32 [=========================>....] - ETA: 0s - loss: 0.2160 - accuracy: 0.9403\n",
            "Epoch 77: saving model to model/point_history_classifier/point_history_classifier.hdf5\n",
            "32/32 [==============================] - 0s 13ms/step - loss: 0.2196 - accuracy: 0.9396 - val_loss: 0.1576 - val_accuracy: 0.9668\n",
            "Epoch 78/1000\n",
            "29/32 [==========================>...] - ETA: 0s - loss: 0.2132 - accuracy: 0.9415\n",
            "Epoch 78: saving model to model/point_history_classifier/point_history_classifier.hdf5\n",
            "32/32 [==============================] - 0s 13ms/step - loss: 0.2133 - accuracy: 0.9413 - val_loss: 0.1536 - val_accuracy: 0.9683\n",
            "Epoch 79/1000\n",
            "27/32 [========================>.....] - ETA: 0s - loss: 0.2025 - accuracy: 0.9453\n",
            "Epoch 79: saving model to model/point_history_classifier/point_history_classifier.hdf5\n",
            "32/32 [==============================] - 0s 13ms/step - loss: 0.2072 - accuracy: 0.9431 - val_loss: 0.1500 - val_accuracy: 0.9660\n",
            "Epoch 80/1000\n",
            "30/32 [===========================>..] - ETA: 0s - loss: 0.2214 - accuracy: 0.9352\n",
            "Epoch 80: saving model to model/point_history_classifier/point_history_classifier.hdf5\n",
            "32/32 [==============================] - 0s 14ms/step - loss: 0.2203 - accuracy: 0.9353 - val_loss: 0.1476 - val_accuracy: 0.9668\n",
            "Epoch 81/1000\n",
            "32/32 [==============================] - ETA: 0s - loss: 0.2060 - accuracy: 0.9416\n",
            "Epoch 81: saving model to model/point_history_classifier/point_history_classifier.hdf5\n",
            "32/32 [==============================] - 0s 15ms/step - loss: 0.2060 - accuracy: 0.9416 - val_loss: 0.1547 - val_accuracy: 0.9637\n",
            "Epoch 82/1000\n",
            "31/32 [============================>.] - ETA: 0s - loss: 0.2139 - accuracy: 0.9362\n",
            "Epoch 82: saving model to model/point_history_classifier/point_history_classifier.hdf5\n",
            "32/32 [==============================] - 0s 14ms/step - loss: 0.2138 - accuracy: 0.9363 - val_loss: 0.1453 - val_accuracy: 0.9690\n",
            "Epoch 83/1000\n",
            "27/32 [========================>.....] - ETA: 0s - loss: 0.2192 - accuracy: 0.9363\n",
            "Epoch 83: saving model to model/point_history_classifier/point_history_classifier.hdf5\n",
            "32/32 [==============================] - 0s 13ms/step - loss: 0.2156 - accuracy: 0.9378 - val_loss: 0.1499 - val_accuracy: 0.9645\n",
            "Epoch 84/1000\n",
            "28/32 [=========================>....] - ETA: 0s - loss: 0.2144 - accuracy: 0.9372\n",
            "Epoch 84: saving model to model/point_history_classifier/point_history_classifier.hdf5\n",
            "32/32 [==============================] - 0s 12ms/step - loss: 0.2112 - accuracy: 0.9391 - val_loss: 0.1415 - val_accuracy: 0.9675\n",
            "Epoch 85/1000\n",
            "29/32 [==========================>...] - ETA: 0s - loss: 0.2056 - accuracy: 0.9386\n",
            "Epoch 85: saving model to model/point_history_classifier/point_history_classifier.hdf5\n",
            "32/32 [==============================] - 0s 13ms/step - loss: 0.2035 - accuracy: 0.9393 - val_loss: 0.1438 - val_accuracy: 0.9660\n",
            "Epoch 86/1000\n",
            "27/32 [========================>.....] - ETA: 0s - loss: 0.2152 - accuracy: 0.9361\n",
            "Epoch 86: saving model to model/point_history_classifier/point_history_classifier.hdf5\n",
            "32/32 [==============================] - 0s 13ms/step - loss: 0.2177 - accuracy: 0.9361 - val_loss: 0.1370 - val_accuracy: 0.9705\n",
            "Epoch 87/1000\n",
            "28/32 [=========================>....] - ETA: 0s - loss: 0.2051 - accuracy: 0.9417\n",
            "Epoch 87: saving model to model/point_history_classifier/point_history_classifier.hdf5\n",
            "32/32 [==============================] - 0s 13ms/step - loss: 0.2012 - accuracy: 0.9428 - val_loss: 0.1344 - val_accuracy: 0.9698\n",
            "Epoch 88/1000\n",
            "29/32 [==========================>...] - ETA: 0s - loss: 0.1953 - accuracy: 0.9426\n",
            "Epoch 88: saving model to model/point_history_classifier/point_history_classifier.hdf5\n",
            "32/32 [==============================] - 0s 15ms/step - loss: 0.1953 - accuracy: 0.9434 - val_loss: 0.1406 - val_accuracy: 0.9683\n",
            "Epoch 89/1000\n",
            "28/32 [=========================>....] - ETA: 0s - loss: 0.1993 - accuracy: 0.9436\n",
            "Epoch 89: saving model to model/point_history_classifier/point_history_classifier.hdf5\n",
            "32/32 [==============================] - 0s 15ms/step - loss: 0.2012 - accuracy: 0.9421 - val_loss: 0.1324 - val_accuracy: 0.9690\n",
            "Epoch 90/1000\n",
            "31/32 [============================>.] - ETA: 0s - loss: 0.1996 - accuracy: 0.9420\n",
            "Epoch 90: saving model to model/point_history_classifier/point_history_classifier.hdf5\n",
            "32/32 [==============================] - 1s 16ms/step - loss: 0.1996 - accuracy: 0.9418 - val_loss: 0.1312 - val_accuracy: 0.9705\n",
            "Epoch 91/1000\n",
            "28/32 [=========================>....] - ETA: 0s - loss: 0.2008 - accuracy: 0.9417\n",
            "Epoch 91: saving model to model/point_history_classifier/point_history_classifier.hdf5\n",
            "32/32 [==============================] - 0s 15ms/step - loss: 0.1981 - accuracy: 0.9423 - val_loss: 0.1299 - val_accuracy: 0.9713\n",
            "Epoch 92/1000\n",
            "31/32 [============================>.] - ETA: 0s - loss: 0.1897 - accuracy: 0.9441\n",
            "Epoch 92: saving model to model/point_history_classifier/point_history_classifier.hdf5\n",
            "32/32 [==============================] - 0s 14ms/step - loss: 0.1895 - accuracy: 0.9441 - val_loss: 0.1338 - val_accuracy: 0.9698\n",
            "Epoch 93/1000\n",
            "27/32 [========================>.....] - ETA: 0s - loss: 0.1728 - accuracy: 0.9479\n",
            "Epoch 93: saving model to model/point_history_classifier/point_history_classifier.hdf5\n",
            "32/32 [==============================] - 0s 13ms/step - loss: 0.1802 - accuracy: 0.9471 - val_loss: 0.1293 - val_accuracy: 0.9713\n",
            "Epoch 94/1000\n",
            "30/32 [===========================>..] - ETA: 0s - loss: 0.1782 - accuracy: 0.9479\n",
            "Epoch 94: saving model to model/point_history_classifier/point_history_classifier.hdf5\n",
            "32/32 [==============================] - 1s 16ms/step - loss: 0.1777 - accuracy: 0.9481 - val_loss: 0.1310 - val_accuracy: 0.9690\n",
            "Epoch 95/1000\n",
            "31/32 [============================>.] - ETA: 0s - loss: 0.1788 - accuracy: 0.9493\n",
            "Epoch 95: saving model to model/point_history_classifier/point_history_classifier.hdf5\n",
            "32/32 [==============================] - 0s 13ms/step - loss: 0.1787 - accuracy: 0.9494 - val_loss: 0.1310 - val_accuracy: 0.9690\n",
            "Epoch 96/1000\n",
            "32/32 [==============================] - ETA: 0s - loss: 0.1898 - accuracy: 0.9439\n",
            "Epoch 96: saving model to model/point_history_classifier/point_history_classifier.hdf5\n",
            "32/32 [==============================] - 1s 16ms/step - loss: 0.1898 - accuracy: 0.9439 - val_loss: 0.1334 - val_accuracy: 0.9668\n",
            "Epoch 97/1000\n",
            "32/32 [==============================] - ETA: 0s - loss: 0.1817 - accuracy: 0.9461\n",
            "Epoch 97: saving model to model/point_history_classifier/point_history_classifier.hdf5\n",
            "32/32 [==============================] - 1s 16ms/step - loss: 0.1817 - accuracy: 0.9461 - val_loss: 0.1260 - val_accuracy: 0.9705\n",
            "Epoch 98/1000\n",
            "32/32 [==============================] - ETA: 0s - loss: 0.1688 - accuracy: 0.9496\n",
            "Epoch 98: saving model to model/point_history_classifier/point_history_classifier.hdf5\n",
            "32/32 [==============================] - 0s 15ms/step - loss: 0.1688 - accuracy: 0.9496 - val_loss: 0.1264 - val_accuracy: 0.9698\n",
            "Epoch 99/1000\n",
            "30/32 [===========================>..] - ETA: 0s - loss: 0.1843 - accuracy: 0.9492\n",
            "Epoch 99: saving model to model/point_history_classifier/point_history_classifier.hdf5\n",
            "32/32 [==============================] - 0s 15ms/step - loss: 0.1819 - accuracy: 0.9499 - val_loss: 0.1238 - val_accuracy: 0.9736\n",
            "Epoch 100/1000\n",
            "32/32 [==============================] - ETA: 0s - loss: 0.1792 - accuracy: 0.9496\n",
            "Epoch 100: saving model to model/point_history_classifier/point_history_classifier.hdf5\n",
            "32/32 [==============================] - 1s 16ms/step - loss: 0.1792 - accuracy: 0.9496 - val_loss: 0.1269 - val_accuracy: 0.9705\n",
            "Epoch 101/1000\n",
            "29/32 [==========================>...] - ETA: 0s - loss: 0.1661 - accuracy: 0.9520\n",
            "Epoch 101: saving model to model/point_history_classifier/point_history_classifier.hdf5\n",
            "32/32 [==============================] - 0s 15ms/step - loss: 0.1666 - accuracy: 0.9517 - val_loss: 0.1219 - val_accuracy: 0.9728\n",
            "Epoch 102/1000\n",
            "30/32 [===========================>..] - ETA: 0s - loss: 0.1639 - accuracy: 0.9510\n",
            "Epoch 102: saving model to model/point_history_classifier/point_history_classifier.hdf5\n",
            "32/32 [==============================] - 0s 15ms/step - loss: 0.1633 - accuracy: 0.9514 - val_loss: 0.1207 - val_accuracy: 0.9721\n",
            "Epoch 103/1000\n",
            "28/32 [=========================>....] - ETA: 0s - loss: 0.1686 - accuracy: 0.9501\n",
            "Epoch 103: saving model to model/point_history_classifier/point_history_classifier.hdf5\n",
            "32/32 [==============================] - 0s 15ms/step - loss: 0.1649 - accuracy: 0.9519 - val_loss: 0.1217 - val_accuracy: 0.9713\n",
            "Epoch 104/1000\n",
            "30/32 [===========================>..] - ETA: 0s - loss: 0.1671 - accuracy: 0.9534\n",
            "Epoch 104: saving model to model/point_history_classifier/point_history_classifier.hdf5\n",
            "32/32 [==============================] - 0s 15ms/step - loss: 0.1661 - accuracy: 0.9532 - val_loss: 0.1241 - val_accuracy: 0.9705\n",
            "Epoch 105/1000\n",
            "28/32 [=========================>....] - ETA: 0s - loss: 0.1588 - accuracy: 0.9554\n",
            "Epoch 105: saving model to model/point_history_classifier/point_history_classifier.hdf5\n",
            "32/32 [==============================] - 1s 16ms/step - loss: 0.1608 - accuracy: 0.9547 - val_loss: 0.1221 - val_accuracy: 0.9690\n",
            "Epoch 106/1000\n",
            "30/32 [===========================>..] - ETA: 0s - loss: 0.1784 - accuracy: 0.9492\n",
            "Epoch 106: saving model to model/point_history_classifier/point_history_classifier.hdf5\n",
            "32/32 [==============================] - 0s 14ms/step - loss: 0.1766 - accuracy: 0.9499 - val_loss: 0.1182 - val_accuracy: 0.9713\n",
            "Epoch 107/1000\n",
            "31/32 [============================>.] - ETA: 0s - loss: 0.1676 - accuracy: 0.9496\n",
            "Epoch 107: saving model to model/point_history_classifier/point_history_classifier.hdf5\n",
            "32/32 [==============================] - 0s 14ms/step - loss: 0.1676 - accuracy: 0.9496 - val_loss: 0.1185 - val_accuracy: 0.9698\n",
            "Epoch 108/1000\n",
            "28/32 [=========================>....] - ETA: 0s - loss: 0.1599 - accuracy: 0.9534\n",
            "Epoch 108: saving model to model/point_history_classifier/point_history_classifier.hdf5\n",
            "32/32 [==============================] - 0s 13ms/step - loss: 0.1599 - accuracy: 0.9539 - val_loss: 0.1120 - val_accuracy: 0.9721\n",
            "Epoch 109/1000\n",
            "30/32 [===========================>..] - ETA: 0s - loss: 0.1650 - accuracy: 0.9505\n",
            "Epoch 109: saving model to model/point_history_classifier/point_history_classifier.hdf5\n",
            "32/32 [==============================] - 0s 13ms/step - loss: 0.1664 - accuracy: 0.9502 - val_loss: 0.1127 - val_accuracy: 0.9698\n",
            "Epoch 110/1000\n",
            "30/32 [===========================>..] - ETA: 0s - loss: 0.1625 - accuracy: 0.9547\n",
            "Epoch 110: saving model to model/point_history_classifier/point_history_classifier.hdf5\n",
            "32/32 [==============================] - 0s 14ms/step - loss: 0.1655 - accuracy: 0.9547 - val_loss: 0.1168 - val_accuracy: 0.9721\n",
            "Epoch 111/1000\n",
            "30/32 [===========================>..] - ETA: 0s - loss: 0.1568 - accuracy: 0.9549\n",
            "Epoch 111: saving model to model/point_history_classifier/point_history_classifier.hdf5\n",
            "32/32 [==============================] - 0s 14ms/step - loss: 0.1563 - accuracy: 0.9552 - val_loss: 0.1110 - val_accuracy: 0.9713\n",
            "Epoch 112/1000\n",
            "31/32 [============================>.] - ETA: 0s - loss: 0.1561 - accuracy: 0.9577\n",
            "Epoch 112: saving model to model/point_history_classifier/point_history_classifier.hdf5\n",
            "32/32 [==============================] - 0s 14ms/step - loss: 0.1561 - accuracy: 0.9577 - val_loss: 0.1115 - val_accuracy: 0.9728\n",
            "Epoch 113/1000\n",
            "32/32 [==============================] - ETA: 0s - loss: 0.1602 - accuracy: 0.9547\n",
            "Epoch 113: saving model to model/point_history_classifier/point_history_classifier.hdf5\n",
            "32/32 [==============================] - 0s 14ms/step - loss: 0.1602 - accuracy: 0.9547 - val_loss: 0.1098 - val_accuracy: 0.9728\n",
            "Epoch 114/1000\n",
            "31/32 [============================>.] - ETA: 0s - loss: 0.1541 - accuracy: 0.9541\n",
            "Epoch 114: saving model to model/point_history_classifier/point_history_classifier.hdf5\n",
            "32/32 [==============================] - 0s 13ms/step - loss: 0.1546 - accuracy: 0.9539 - val_loss: 0.1157 - val_accuracy: 0.9736\n",
            "Epoch 115/1000\n",
            "28/32 [=========================>....] - ETA: 0s - loss: 0.1596 - accuracy: 0.9506\n",
            "Epoch 115: saving model to model/point_history_classifier/point_history_classifier.hdf5\n",
            "32/32 [==============================] - 0s 13ms/step - loss: 0.1588 - accuracy: 0.9512 - val_loss: 0.1177 - val_accuracy: 0.9705\n",
            "Epoch 116/1000\n",
            "29/32 [==========================>...] - ETA: 0s - loss: 0.1708 - accuracy: 0.9534\n",
            "Epoch 116: saving model to model/point_history_classifier/point_history_classifier.hdf5\n",
            "32/32 [==============================] - 1s 17ms/step - loss: 0.1694 - accuracy: 0.9534 - val_loss: 0.1155 - val_accuracy: 0.9705\n",
            "Epoch 117/1000\n",
            "32/32 [==============================] - ETA: 0s - loss: 0.1559 - accuracy: 0.9549\n",
            "Epoch 117: saving model to model/point_history_classifier/point_history_classifier.hdf5\n",
            "32/32 [==============================] - 0s 15ms/step - loss: 0.1559 - accuracy: 0.9549 - val_loss: 0.1130 - val_accuracy: 0.9698\n",
            "Epoch 118/1000\n",
            "32/32 [==============================] - ETA: 0s - loss: 0.1491 - accuracy: 0.9544\n",
            "Epoch 118: saving model to model/point_history_classifier/point_history_classifier.hdf5\n",
            "32/32 [==============================] - 0s 14ms/step - loss: 0.1491 - accuracy: 0.9544 - val_loss: 0.1141 - val_accuracy: 0.9713\n",
            "Epoch 119/1000\n",
            "27/32 [========================>.....] - ETA: 0s - loss: 0.1463 - accuracy: 0.9624\n",
            "Epoch 119: saving model to model/point_history_classifier/point_history_classifier.hdf5\n",
            "32/32 [==============================] - 0s 13ms/step - loss: 0.1454 - accuracy: 0.9607 - val_loss: 0.1121 - val_accuracy: 0.9736\n",
            "Epoch 120/1000\n",
            "31/32 [============================>.] - ETA: 0s - loss: 0.1512 - accuracy: 0.9577\n",
            "Epoch 120: saving model to model/point_history_classifier/point_history_classifier.hdf5\n",
            "32/32 [==============================] - 0s 14ms/step - loss: 0.1510 - accuracy: 0.9577 - val_loss: 0.1105 - val_accuracy: 0.9713\n",
            "Epoch 121/1000\n",
            "30/32 [===========================>..] - ETA: 0s - loss: 0.1516 - accuracy: 0.9570\n",
            "Epoch 121: saving model to model/point_history_classifier/point_history_classifier.hdf5\n",
            "32/32 [==============================] - 0s 15ms/step - loss: 0.1548 - accuracy: 0.9564 - val_loss: 0.1077 - val_accuracy: 0.9713\n",
            "Epoch 122/1000\n",
            "30/32 [===========================>..] - ETA: 0s - loss: 0.1538 - accuracy: 0.9544\n",
            "Epoch 122: saving model to model/point_history_classifier/point_history_classifier.hdf5\n",
            "32/32 [==============================] - 0s 14ms/step - loss: 0.1536 - accuracy: 0.9549 - val_loss: 0.1170 - val_accuracy: 0.9713\n",
            "Epoch 123/1000\n",
            "31/32 [============================>.] - ETA: 0s - loss: 0.1486 - accuracy: 0.9569\n",
            "Epoch 123: saving model to model/point_history_classifier/point_history_classifier.hdf5\n",
            "32/32 [==============================] - 0s 14ms/step - loss: 0.1485 - accuracy: 0.9569 - val_loss: 0.1077 - val_accuracy: 0.9743\n",
            "Epoch 124/1000\n",
            "28/32 [=========================>....] - ETA: 0s - loss: 0.1434 - accuracy: 0.9570\n",
            "Epoch 124: saving model to model/point_history_classifier/point_history_classifier.hdf5\n",
            "32/32 [==============================] - 0s 15ms/step - loss: 0.1436 - accuracy: 0.9569 - val_loss: 0.1073 - val_accuracy: 0.9728\n",
            "Epoch 125/1000\n",
            "28/32 [=========================>....] - ETA: 0s - loss: 0.1487 - accuracy: 0.9590\n",
            "Epoch 125: saving model to model/point_history_classifier/point_history_classifier.hdf5\n",
            "32/32 [==============================] - 0s 15ms/step - loss: 0.1500 - accuracy: 0.9592 - val_loss: 0.1045 - val_accuracy: 0.9728\n",
            "Epoch 126/1000\n",
            "31/32 [============================>.] - ETA: 0s - loss: 0.1470 - accuracy: 0.9609\n",
            "Epoch 126: saving model to model/point_history_classifier/point_history_classifier.hdf5\n",
            "32/32 [==============================] - 0s 16ms/step - loss: 0.1469 - accuracy: 0.9610 - val_loss: 0.1034 - val_accuracy: 0.9736\n",
            "Epoch 127/1000\n",
            "32/32 [==============================] - ETA: 0s - loss: 0.1443 - accuracy: 0.9590\n",
            "Epoch 127: saving model to model/point_history_classifier/point_history_classifier.hdf5\n",
            "32/32 [==============================] - 1s 15ms/step - loss: 0.1443 - accuracy: 0.9590 - val_loss: 0.1119 - val_accuracy: 0.9728\n",
            "Epoch 128/1000\n",
            "31/32 [============================>.] - ETA: 0s - loss: 0.1447 - accuracy: 0.9582\n",
            "Epoch 128: saving model to model/point_history_classifier/point_history_classifier.hdf5\n",
            "32/32 [==============================] - 0s 14ms/step - loss: 0.1446 - accuracy: 0.9582 - val_loss: 0.1108 - val_accuracy: 0.9728\n",
            "Epoch 129/1000\n",
            "30/32 [===========================>..] - ETA: 0s - loss: 0.1474 - accuracy: 0.9542\n",
            "Epoch 129: saving model to model/point_history_classifier/point_history_classifier.hdf5\n",
            "32/32 [==============================] - 0s 14ms/step - loss: 0.1485 - accuracy: 0.9542 - val_loss: 0.1043 - val_accuracy: 0.9736\n",
            "Epoch 130/1000\n",
            "28/32 [=========================>....] - ETA: 0s - loss: 0.1416 - accuracy: 0.9554\n",
            "Epoch 130: saving model to model/point_history_classifier/point_history_classifier.hdf5\n",
            "32/32 [==============================] - 0s 13ms/step - loss: 0.1370 - accuracy: 0.9569 - val_loss: 0.1100 - val_accuracy: 0.9721\n",
            "Epoch 131/1000\n",
            "29/32 [==========================>...] - ETA: 0s - loss: 0.1349 - accuracy: 0.9591\n",
            "Epoch 131: saving model to model/point_history_classifier/point_history_classifier.hdf5\n",
            "32/32 [==============================] - 0s 15ms/step - loss: 0.1358 - accuracy: 0.9592 - val_loss: 0.1047 - val_accuracy: 0.9728\n",
            "Epoch 132/1000\n",
            "29/32 [==========================>...] - ETA: 0s - loss: 0.1374 - accuracy: 0.9580\n",
            "Epoch 132: saving model to model/point_history_classifier/point_history_classifier.hdf5\n",
            "32/32 [==============================] - 1s 16ms/step - loss: 0.1376 - accuracy: 0.9585 - val_loss: 0.1035 - val_accuracy: 0.9736\n",
            "Epoch 133/1000\n",
            "30/32 [===========================>..] - ETA: 0s - loss: 0.1390 - accuracy: 0.9583\n",
            "Epoch 133: saving model to model/point_history_classifier/point_history_classifier.hdf5\n",
            "32/32 [==============================] - 1s 16ms/step - loss: 0.1379 - accuracy: 0.9585 - val_loss: 0.1114 - val_accuracy: 0.9721\n",
            "Epoch 134/1000\n",
            "28/32 [=========================>....] - ETA: 0s - loss: 0.1462 - accuracy: 0.9579\n",
            "Epoch 134: saving model to model/point_history_classifier/point_history_classifier.hdf5\n",
            "32/32 [==============================] - 0s 15ms/step - loss: 0.1457 - accuracy: 0.9585 - val_loss: 0.1111 - val_accuracy: 0.9736\n",
            "Epoch 135/1000\n",
            "29/32 [==========================>...] - ETA: 0s - loss: 0.1463 - accuracy: 0.9604\n",
            "Epoch 135: saving model to model/point_history_classifier/point_history_classifier.hdf5\n",
            "32/32 [==============================] - 0s 13ms/step - loss: 0.1443 - accuracy: 0.9602 - val_loss: 0.1030 - val_accuracy: 0.9728\n",
            "Epoch 136/1000\n",
            "28/32 [=========================>....] - ETA: 0s - loss: 0.1453 - accuracy: 0.9570\n",
            "Epoch 136: saving model to model/point_history_classifier/point_history_classifier.hdf5\n",
            "32/32 [==============================] - 0s 13ms/step - loss: 0.1424 - accuracy: 0.9577 - val_loss: 0.1107 - val_accuracy: 0.9758\n",
            "Epoch 137/1000\n",
            "31/32 [============================>.] - ETA: 0s - loss: 0.1581 - accuracy: 0.9544\n",
            "Epoch 137: saving model to model/point_history_classifier/point_history_classifier.hdf5\n",
            "32/32 [==============================] - 0s 14ms/step - loss: 0.1582 - accuracy: 0.9542 - val_loss: 0.1048 - val_accuracy: 0.9705\n",
            "Epoch 138/1000\n",
            "32/32 [==============================] - ETA: 0s - loss: 0.1646 - accuracy: 0.9496\n",
            "Epoch 138: saving model to model/point_history_classifier/point_history_classifier.hdf5\n",
            "32/32 [==============================] - 0s 14ms/step - loss: 0.1646 - accuracy: 0.9496 - val_loss: 0.1003 - val_accuracy: 0.9751\n",
            "Epoch 139/1000\n",
            "31/32 [============================>.] - ETA: 0s - loss: 0.1409 - accuracy: 0.9584\n",
            "Epoch 139: saving model to model/point_history_classifier/point_history_classifier.hdf5\n",
            "32/32 [==============================] - 0s 14ms/step - loss: 0.1409 - accuracy: 0.9585 - val_loss: 0.0980 - val_accuracy: 0.9751\n",
            "Epoch 140/1000\n",
            "31/32 [============================>.] - ETA: 0s - loss: 0.1423 - accuracy: 0.9572\n",
            "Epoch 140: saving model to model/point_history_classifier/point_history_classifier.hdf5\n",
            "32/32 [==============================] - 0s 13ms/step - loss: 0.1423 - accuracy: 0.9572 - val_loss: 0.1014 - val_accuracy: 0.9751\n",
            "Epoch 141/1000\n",
            "31/32 [============================>.] - ETA: 0s - loss: 0.1419 - accuracy: 0.9592\n",
            "Epoch 141: saving model to model/point_history_classifier/point_history_classifier.hdf5\n",
            "32/32 [==============================] - 0s 14ms/step - loss: 0.1418 - accuracy: 0.9592 - val_loss: 0.1013 - val_accuracy: 0.9736\n",
            "Epoch 142/1000\n",
            "29/32 [==========================>...] - ETA: 0s - loss: 0.1316 - accuracy: 0.9607\n",
            "Epoch 142: saving model to model/point_history_classifier/point_history_classifier.hdf5\n",
            "32/32 [==============================] - 1s 16ms/step - loss: 0.1337 - accuracy: 0.9600 - val_loss: 0.1060 - val_accuracy: 0.9743\n",
            "Epoch 143/1000\n",
            "32/32 [==============================] - ETA: 0s - loss: 0.1273 - accuracy: 0.9635\n",
            "Epoch 143: saving model to model/point_history_classifier/point_history_classifier.hdf5\n",
            "32/32 [==============================] - 1s 16ms/step - loss: 0.1273 - accuracy: 0.9635 - val_loss: 0.0971 - val_accuracy: 0.9743\n",
            "Epoch 144/1000\n",
            "31/32 [============================>.] - ETA: 0s - loss: 0.1414 - accuracy: 0.9594\n",
            "Epoch 144: saving model to model/point_history_classifier/point_history_classifier.hdf5\n",
            "32/32 [==============================] - 1s 16ms/step - loss: 0.1414 - accuracy: 0.9595 - val_loss: 0.0991 - val_accuracy: 0.9743\n",
            "Epoch 145/1000\n",
            "32/32 [==============================] - ETA: 0s - loss: 0.1322 - accuracy: 0.9642\n",
            "Epoch 145: saving model to model/point_history_classifier/point_history_classifier.hdf5\n",
            "32/32 [==============================] - 1s 16ms/step - loss: 0.1322 - accuracy: 0.9642 - val_loss: 0.1003 - val_accuracy: 0.9751\n",
            "Epoch 146/1000\n",
            "30/32 [===========================>..] - ETA: 0s - loss: 0.1310 - accuracy: 0.9617\n",
            "Epoch 146: saving model to model/point_history_classifier/point_history_classifier.hdf5\n",
            "32/32 [==============================] - 0s 14ms/step - loss: 0.1305 - accuracy: 0.9625 - val_loss: 0.0994 - val_accuracy: 0.9751\n",
            "Epoch 147/1000\n",
            "30/32 [===========================>..] - ETA: 0s - loss: 0.1239 - accuracy: 0.9612\n",
            "Epoch 147: saving model to model/point_history_classifier/point_history_classifier.hdf5\n",
            "32/32 [==============================] - 0s 14ms/step - loss: 0.1237 - accuracy: 0.9615 - val_loss: 0.0966 - val_accuracy: 0.9766\n",
            "Epoch 148/1000\n",
            "27/32 [========================>.....] - ETA: 0s - loss: 0.1343 - accuracy: 0.9618\n",
            "Epoch 148: saving model to model/point_history_classifier/point_history_classifier.hdf5\n",
            "32/32 [==============================] - 0s 13ms/step - loss: 0.1346 - accuracy: 0.9617 - val_loss: 0.0975 - val_accuracy: 0.9743\n",
            "Epoch 149/1000\n",
            "30/32 [===========================>..] - ETA: 0s - loss: 0.1271 - accuracy: 0.9617\n",
            "Epoch 149: saving model to model/point_history_classifier/point_history_classifier.hdf5\n",
            "32/32 [==============================] - 0s 15ms/step - loss: 0.1279 - accuracy: 0.9615 - val_loss: 0.0993 - val_accuracy: 0.9766\n",
            "Epoch 150/1000\n",
            "31/32 [============================>.] - ETA: 0s - loss: 0.1257 - accuracy: 0.9632\n",
            "Epoch 150: saving model to model/point_history_classifier/point_history_classifier.hdf5\n",
            "32/32 [==============================] - 0s 14ms/step - loss: 0.1256 - accuracy: 0.9632 - val_loss: 0.1011 - val_accuracy: 0.9766\n",
            "Epoch 151/1000\n",
            "32/32 [==============================] - ETA: 0s - loss: 0.1254 - accuracy: 0.9622\n",
            "Epoch 151: saving model to model/point_history_classifier/point_history_classifier.hdf5\n",
            "32/32 [==============================] - 1s 16ms/step - loss: 0.1254 - accuracy: 0.9622 - val_loss: 0.0987 - val_accuracy: 0.9743\n",
            "Epoch 152/1000\n",
            "32/32 [==============================] - ETA: 0s - loss: 0.1288 - accuracy: 0.9645\n",
            "Epoch 152: saving model to model/point_history_classifier/point_history_classifier.hdf5\n",
            "32/32 [==============================] - 1s 16ms/step - loss: 0.1288 - accuracy: 0.9645 - val_loss: 0.0989 - val_accuracy: 0.9751\n",
            "Epoch 153/1000\n",
            "30/32 [===========================>..] - ETA: 0s - loss: 0.1394 - accuracy: 0.9570\n",
            "Epoch 153: saving model to model/point_history_classifier/point_history_classifier.hdf5\n",
            "32/32 [==============================] - 1s 17ms/step - loss: 0.1404 - accuracy: 0.9567 - val_loss: 0.0973 - val_accuracy: 0.9773\n",
            "Epoch 154/1000\n",
            "31/32 [============================>.] - ETA: 0s - loss: 0.1399 - accuracy: 0.9587\n",
            "Epoch 154: saving model to model/point_history_classifier/point_history_classifier.hdf5\n",
            "32/32 [==============================] - 0s 16ms/step - loss: 0.1399 - accuracy: 0.9587 - val_loss: 0.0965 - val_accuracy: 0.9751\n",
            "Epoch 155/1000\n",
            "28/32 [=========================>....] - ETA: 0s - loss: 0.1348 - accuracy: 0.9632\n",
            "Epoch 155: saving model to model/point_history_classifier/point_history_classifier.hdf5\n",
            "32/32 [==============================] - 0s 15ms/step - loss: 0.1349 - accuracy: 0.9622 - val_loss: 0.0962 - val_accuracy: 0.9773\n",
            "Epoch 156/1000\n",
            "29/32 [==========================>...] - ETA: 0s - loss: 0.1353 - accuracy: 0.9596\n",
            "Epoch 156: saving model to model/point_history_classifier/point_history_classifier.hdf5\n",
            "32/32 [==============================] - 0s 14ms/step - loss: 0.1346 - accuracy: 0.9595 - val_loss: 0.0981 - val_accuracy: 0.9758\n",
            "Epoch 157/1000\n",
            "28/32 [=========================>....] - ETA: 0s - loss: 0.1237 - accuracy: 0.9632\n",
            "Epoch 157: saving model to model/point_history_classifier/point_history_classifier.hdf5\n",
            "32/32 [==============================] - 0s 14ms/step - loss: 0.1229 - accuracy: 0.9642 - val_loss: 0.0990 - val_accuracy: 0.9728\n",
            "Epoch 158/1000\n",
            "32/32 [==============================] - ETA: 0s - loss: 0.1215 - accuracy: 0.9635\n",
            "Epoch 158: saving model to model/point_history_classifier/point_history_classifier.hdf5\n",
            "32/32 [==============================] - 0s 13ms/step - loss: 0.1215 - accuracy: 0.9635 - val_loss: 0.0989 - val_accuracy: 0.9751\n",
            "Epoch 159/1000\n",
            "30/32 [===========================>..] - ETA: 0s - loss: 0.1253 - accuracy: 0.9651\n",
            "Epoch 159: saving model to model/point_history_classifier/point_history_classifier.hdf5\n",
            "32/32 [==============================] - 0s 14ms/step - loss: 0.1275 - accuracy: 0.9640 - val_loss: 0.0939 - val_accuracy: 0.9766\n",
            "Epoch 160/1000\n",
            "30/32 [===========================>..] - ETA: 0s - loss: 0.1257 - accuracy: 0.9622\n",
            "Epoch 160: saving model to model/point_history_classifier/point_history_classifier.hdf5\n",
            "32/32 [==============================] - 0s 14ms/step - loss: 0.1235 - accuracy: 0.9630 - val_loss: 0.0987 - val_accuracy: 0.9766\n",
            "Epoch 161/1000\n",
            "28/32 [=========================>....] - ETA: 0s - loss: 0.1214 - accuracy: 0.9632\n",
            "Epoch 161: saving model to model/point_history_classifier/point_history_classifier.hdf5\n",
            "32/32 [==============================] - 1s 15ms/step - loss: 0.1253 - accuracy: 0.9622 - val_loss: 0.1070 - val_accuracy: 0.9743\n",
            "Epoch 162/1000\n",
            "31/32 [============================>.] - ETA: 0s - loss: 0.1515 - accuracy: 0.9549\n",
            "Epoch 162: saving model to model/point_history_classifier/point_history_classifier.hdf5\n",
            "32/32 [==============================] - 0s 14ms/step - loss: 0.1514 - accuracy: 0.9549 - val_loss: 0.0988 - val_accuracy: 0.9721\n",
            "Epoch 163/1000\n",
            "31/32 [============================>.] - ETA: 0s - loss: 0.1225 - accuracy: 0.9635\n",
            "Epoch 163: saving model to model/point_history_classifier/point_history_classifier.hdf5\n",
            "32/32 [==============================] - 1s 16ms/step - loss: 0.1224 - accuracy: 0.9635 - val_loss: 0.0963 - val_accuracy: 0.9736\n",
            "Epoch 164/1000\n",
            "32/32 [==============================] - ETA: 0s - loss: 0.1205 - accuracy: 0.9655\n",
            "Epoch 164: saving model to model/point_history_classifier/point_history_classifier.hdf5\n",
            "32/32 [==============================] - 1s 16ms/step - loss: 0.1205 - accuracy: 0.9655 - val_loss: 0.0986 - val_accuracy: 0.9758\n",
            "Epoch 165/1000\n",
            "31/32 [============================>.] - ETA: 0s - loss: 0.1262 - accuracy: 0.9630\n",
            "Epoch 165: saving model to model/point_history_classifier/point_history_classifier.hdf5\n",
            "32/32 [==============================] - 1s 16ms/step - loss: 0.1261 - accuracy: 0.9630 - val_loss: 0.0955 - val_accuracy: 0.9758\n",
            "Epoch 166/1000\n",
            "28/32 [=========================>....] - ETA: 0s - loss: 0.1280 - accuracy: 0.9629\n",
            "Epoch 166: saving model to model/point_history_classifier/point_history_classifier.hdf5\n",
            "32/32 [==============================] - 0s 15ms/step - loss: 0.1256 - accuracy: 0.9637 - val_loss: 0.1048 - val_accuracy: 0.9751\n",
            "Epoch 167/1000\n",
            "28/32 [=========================>....] - ETA: 0s - loss: 0.1244 - accuracy: 0.9593\n",
            "Epoch 167: saving model to model/point_history_classifier/point_history_classifier.hdf5\n",
            "32/32 [==============================] - 1s 16ms/step - loss: 0.1252 - accuracy: 0.9597 - val_loss: 0.0912 - val_accuracy: 0.9789\n",
            "Epoch 168/1000\n",
            "28/32 [=========================>....] - ETA: 0s - loss: 0.1223 - accuracy: 0.9615\n",
            "Epoch 168: saving model to model/point_history_classifier/point_history_classifier.hdf5\n",
            "32/32 [==============================] - 1s 17ms/step - loss: 0.1205 - accuracy: 0.9622 - val_loss: 0.0959 - val_accuracy: 0.9773\n",
            "Epoch 169/1000\n",
            "31/32 [============================>.] - ETA: 0s - loss: 0.1176 - accuracy: 0.9650\n",
            "Epoch 169: saving model to model/point_history_classifier/point_history_classifier.hdf5\n",
            "32/32 [==============================] - 0s 14ms/step - loss: 0.1179 - accuracy: 0.9648 - val_loss: 0.1095 - val_accuracy: 0.9713\n",
            "Epoch 170/1000\n",
            "29/32 [==========================>...] - ETA: 0s - loss: 0.1430 - accuracy: 0.9577\n",
            "Epoch 170: saving model to model/point_history_classifier/point_history_classifier.hdf5\n",
            "32/32 [==============================] - 1s 16ms/step - loss: 0.1426 - accuracy: 0.9585 - val_loss: 0.1012 - val_accuracy: 0.9736\n",
            "Epoch 171/1000\n",
            "30/32 [===========================>..] - ETA: 0s - loss: 0.1244 - accuracy: 0.9615\n",
            "Epoch 171: saving model to model/point_history_classifier/point_history_classifier.hdf5\n",
            "32/32 [==============================] - 0s 14ms/step - loss: 0.1230 - accuracy: 0.9620 - val_loss: 0.0933 - val_accuracy: 0.9743\n",
            "Epoch 172/1000\n",
            "31/32 [============================>.] - ETA: 0s - loss: 0.1206 - accuracy: 0.9627\n",
            "Epoch 172: saving model to model/point_history_classifier/point_history_classifier.hdf5\n",
            "32/32 [==============================] - 0s 13ms/step - loss: 0.1208 - accuracy: 0.9625 - val_loss: 0.0919 - val_accuracy: 0.9766\n",
            "Epoch 173/1000\n",
            "29/32 [==========================>...] - ETA: 0s - loss: 0.1196 - accuracy: 0.9636\n",
            "Epoch 173: saving model to model/point_history_classifier/point_history_classifier.hdf5\n",
            "32/32 [==============================] - 1s 15ms/step - loss: 0.1186 - accuracy: 0.9653 - val_loss: 0.0964 - val_accuracy: 0.9773\n",
            "Epoch 174/1000\n",
            "32/32 [==============================] - ETA: 0s - loss: 0.1233 - accuracy: 0.9665\n",
            "Epoch 174: saving model to model/point_history_classifier/point_history_classifier.hdf5\n",
            "32/32 [==============================] - 1s 17ms/step - loss: 0.1233 - accuracy: 0.9665 - val_loss: 0.0925 - val_accuracy: 0.9766\n",
            "Epoch 175/1000\n",
            "28/32 [=========================>....] - ETA: 0s - loss: 0.1242 - accuracy: 0.9637\n",
            "Epoch 175: saving model to model/point_history_classifier/point_history_classifier.hdf5\n",
            "32/32 [==============================] - 0s 14ms/step - loss: 0.1262 - accuracy: 0.9632 - val_loss: 0.0922 - val_accuracy: 0.9773\n",
            "Epoch 176/1000\n",
            "30/32 [===========================>..] - ETA: 0s - loss: 0.1180 - accuracy: 0.9628\n",
            "Epoch 176: saving model to model/point_history_classifier/point_history_classifier.hdf5\n",
            "32/32 [==============================] - 0s 14ms/step - loss: 0.1210 - accuracy: 0.9617 - val_loss: 0.0928 - val_accuracy: 0.9773\n",
            "Epoch 177/1000\n",
            "29/32 [==========================>...] - ETA: 0s - loss: 0.1275 - accuracy: 0.9639\n",
            "Epoch 177: saving model to model/point_history_classifier/point_history_classifier.hdf5\n",
            "32/32 [==============================] - 0s 15ms/step - loss: 0.1267 - accuracy: 0.9640 - val_loss: 0.0940 - val_accuracy: 0.9773\n",
            "Epoch 178/1000\n",
            "31/32 [============================>.] - ETA: 0s - loss: 0.1194 - accuracy: 0.9637\n",
            "Epoch 178: saving model to model/point_history_classifier/point_history_classifier.hdf5\n",
            "32/32 [==============================] - 1s 16ms/step - loss: 0.1193 - accuracy: 0.9637 - val_loss: 0.0970 - val_accuracy: 0.9758\n",
            "Epoch 179/1000\n",
            "28/32 [=========================>....] - ETA: 0s - loss: 0.1323 - accuracy: 0.9595\n",
            "Epoch 179: saving model to model/point_history_classifier/point_history_classifier.hdf5\n",
            "32/32 [==============================] - 0s 15ms/step - loss: 0.1270 - accuracy: 0.9612 - val_loss: 0.0998 - val_accuracy: 0.9773\n",
            "Epoch 180/1000\n",
            "31/32 [============================>.] - ETA: 0s - loss: 0.1159 - accuracy: 0.9652\n",
            "Epoch 180: saving model to model/point_history_classifier/point_history_classifier.hdf5\n",
            "32/32 [==============================] - 1s 18ms/step - loss: 0.1159 - accuracy: 0.9653 - val_loss: 0.0912 - val_accuracy: 0.9789\n",
            "Epoch 181/1000\n",
            "28/32 [=========================>....] - ETA: 0s - loss: 0.1161 - accuracy: 0.9612\n",
            "Epoch 181: saving model to model/point_history_classifier/point_history_classifier.hdf5\n",
            "32/32 [==============================] - 0s 15ms/step - loss: 0.1145 - accuracy: 0.9625 - val_loss: 0.0937 - val_accuracy: 0.9766\n",
            "Epoch 182/1000\n",
            "31/32 [============================>.] - ETA: 0s - loss: 0.1244 - accuracy: 0.9630\n",
            "Epoch 182: saving model to model/point_history_classifier/point_history_classifier.hdf5\n",
            "32/32 [==============================] - 1s 16ms/step - loss: 0.1242 - accuracy: 0.9630 - val_loss: 0.0897 - val_accuracy: 0.9796\n",
            "Epoch 183/1000\n",
            "30/32 [===========================>..] - ETA: 0s - loss: 0.1283 - accuracy: 0.9612\n",
            "Epoch 183: saving model to model/point_history_classifier/point_history_classifier.hdf5\n",
            "32/32 [==============================] - 0s 14ms/step - loss: 0.1288 - accuracy: 0.9610 - val_loss: 0.0910 - val_accuracy: 0.9758\n",
            "Epoch 184/1000\n",
            "29/32 [==========================>...] - ETA: 0s - loss: 0.1169 - accuracy: 0.9642\n",
            "Epoch 184: saving model to model/point_history_classifier/point_history_classifier.hdf5\n",
            "32/32 [==============================] - 0s 14ms/step - loss: 0.1167 - accuracy: 0.9642 - val_loss: 0.0978 - val_accuracy: 0.9743\n",
            "Epoch 185/1000\n",
            "30/32 [===========================>..] - ETA: 0s - loss: 0.1185 - accuracy: 0.9620\n",
            "Epoch 185: saving model to model/point_history_classifier/point_history_classifier.hdf5\n",
            "32/32 [==============================] - 0s 14ms/step - loss: 0.1195 - accuracy: 0.9622 - val_loss: 0.0923 - val_accuracy: 0.9758\n",
            "Epoch 186/1000\n",
            "31/32 [============================>.] - ETA: 0s - loss: 0.1187 - accuracy: 0.9622\n",
            "Epoch 186: saving model to model/point_history_classifier/point_history_classifier.hdf5\n",
            "32/32 [==============================] - 1s 16ms/step - loss: 0.1186 - accuracy: 0.9622 - val_loss: 0.0895 - val_accuracy: 0.9766\n",
            "Epoch 187/1000\n",
            "29/32 [==========================>...] - ETA: 0s - loss: 0.1204 - accuracy: 0.9679\n",
            "Epoch 187: saving model to model/point_history_classifier/point_history_classifier.hdf5\n",
            "32/32 [==============================] - 0s 15ms/step - loss: 0.1230 - accuracy: 0.9675 - val_loss: 0.0879 - val_accuracy: 0.9804\n",
            "Epoch 188/1000\n",
            "30/32 [===========================>..] - ETA: 0s - loss: 0.1177 - accuracy: 0.9646\n",
            "Epoch 188: saving model to model/point_history_classifier/point_history_classifier.hdf5\n",
            "32/32 [==============================] - 1s 17ms/step - loss: 0.1156 - accuracy: 0.9650 - val_loss: 0.0930 - val_accuracy: 0.9773\n",
            "Epoch 189/1000\n",
            "28/32 [=========================>....] - ETA: 0s - loss: 0.1157 - accuracy: 0.9671\n",
            "Epoch 189: saving model to model/point_history_classifier/point_history_classifier.hdf5\n",
            "32/32 [==============================] - 0s 15ms/step - loss: 0.1153 - accuracy: 0.9668 - val_loss: 0.0896 - val_accuracy: 0.9773\n",
            "Epoch 190/1000\n",
            "31/32 [============================>.] - ETA: 0s - loss: 0.1142 - accuracy: 0.9619\n",
            "Epoch 190: saving model to model/point_history_classifier/point_history_classifier.hdf5\n",
            "32/32 [==============================] - 1s 16ms/step - loss: 0.1141 - accuracy: 0.9620 - val_loss: 0.0909 - val_accuracy: 0.9773\n",
            "Epoch 191/1000\n",
            "29/32 [==========================>...] - ETA: 0s - loss: 0.1167 - accuracy: 0.9677\n",
            "Epoch 191: saving model to model/point_history_classifier/point_history_classifier.hdf5\n",
            "32/32 [==============================] - 0s 15ms/step - loss: 0.1138 - accuracy: 0.9683 - val_loss: 0.0914 - val_accuracy: 0.9758\n",
            "Epoch 192/1000\n",
            "30/32 [===========================>..] - ETA: 0s - loss: 0.1149 - accuracy: 0.9654\n",
            "Epoch 192: saving model to model/point_history_classifier/point_history_classifier.hdf5\n",
            "32/32 [==============================] - 1s 17ms/step - loss: 0.1160 - accuracy: 0.9653 - val_loss: 0.0956 - val_accuracy: 0.9766\n",
            "Epoch 193/1000\n",
            "28/32 [=========================>....] - ETA: 0s - loss: 0.1172 - accuracy: 0.9668\n",
            "Epoch 193: saving model to model/point_history_classifier/point_history_classifier.hdf5\n",
            "32/32 [==============================] - 0s 15ms/step - loss: 0.1142 - accuracy: 0.9675 - val_loss: 0.0930 - val_accuracy: 0.9781\n",
            "Epoch 194/1000\n",
            "31/32 [============================>.] - ETA: 0s - loss: 0.1098 - accuracy: 0.9657\n",
            "Epoch 194: saving model to model/point_history_classifier/point_history_classifier.hdf5\n",
            "32/32 [==============================] - 1s 16ms/step - loss: 0.1098 - accuracy: 0.9658 - val_loss: 0.0872 - val_accuracy: 0.9773\n",
            "Epoch 195/1000\n",
            "32/32 [==============================] - ETA: 0s - loss: 0.1118 - accuracy: 0.9658\n",
            "Epoch 195: saving model to model/point_history_classifier/point_history_classifier.hdf5\n",
            "32/32 [==============================] - 1s 16ms/step - loss: 0.1118 - accuracy: 0.9658 - val_loss: 0.0874 - val_accuracy: 0.9773\n",
            "Epoch 196/1000\n",
            "30/32 [===========================>..] - ETA: 0s - loss: 0.1071 - accuracy: 0.9672\n",
            "Epoch 196: saving model to model/point_history_classifier/point_history_classifier.hdf5\n",
            "32/32 [==============================] - 1s 16ms/step - loss: 0.1132 - accuracy: 0.9663 - val_loss: 0.0970 - val_accuracy: 0.9743\n",
            "Epoch 197/1000\n",
            "30/32 [===========================>..] - ETA: 0s - loss: 0.1218 - accuracy: 0.9661\n",
            "Epoch 197: saving model to model/point_history_classifier/point_history_classifier.hdf5\n",
            "32/32 [==============================] - 1s 17ms/step - loss: 0.1228 - accuracy: 0.9648 - val_loss: 0.0851 - val_accuracy: 0.9781\n",
            "Epoch 198/1000\n",
            "32/32 [==============================] - ETA: 0s - loss: 0.1390 - accuracy: 0.9582\n",
            "Epoch 198: saving model to model/point_history_classifier/point_history_classifier.hdf5\n",
            "32/32 [==============================] - 1s 17ms/step - loss: 0.1390 - accuracy: 0.9582 - val_loss: 0.0929 - val_accuracy: 0.9766\n",
            "Epoch 199/1000\n",
            "30/32 [===========================>..] - ETA: 0s - loss: 0.1210 - accuracy: 0.9622\n",
            "Epoch 199: saving model to model/point_history_classifier/point_history_classifier.hdf5\n",
            "32/32 [==============================] - 1s 16ms/step - loss: 0.1204 - accuracy: 0.9622 - val_loss: 0.0876 - val_accuracy: 0.9781\n",
            "Epoch 200/1000\n",
            "29/32 [==========================>...] - ETA: 0s - loss: 0.1202 - accuracy: 0.9658\n",
            "Epoch 200: saving model to model/point_history_classifier/point_history_classifier.hdf5\n",
            "32/32 [==============================] - 1s 17ms/step - loss: 0.1169 - accuracy: 0.9660 - val_loss: 0.0885 - val_accuracy: 0.9781\n",
            "Epoch 201/1000\n",
            "29/32 [==========================>...] - ETA: 0s - loss: 0.1123 - accuracy: 0.9677\n",
            "Epoch 201: saving model to model/point_history_classifier/point_history_classifier.hdf5\n",
            "32/32 [==============================] - 1s 16ms/step - loss: 0.1077 - accuracy: 0.9690 - val_loss: 0.0915 - val_accuracy: 0.9766\n",
            "Epoch 202/1000\n",
            "30/32 [===========================>..] - ETA: 0s - loss: 0.1075 - accuracy: 0.9667\n",
            "Epoch 202: saving model to model/point_history_classifier/point_history_classifier.hdf5\n",
            "32/32 [==============================] - 1s 17ms/step - loss: 0.1069 - accuracy: 0.9665 - val_loss: 0.0854 - val_accuracy: 0.9766\n",
            "Epoch 203/1000\n",
            "31/32 [============================>.] - ETA: 0s - loss: 0.1098 - accuracy: 0.9662\n",
            "Epoch 203: saving model to model/point_history_classifier/point_history_classifier.hdf5\n",
            "32/32 [==============================] - 0s 15ms/step - loss: 0.1097 - accuracy: 0.9663 - val_loss: 0.0878 - val_accuracy: 0.9758\n",
            "Epoch 204/1000\n",
            "29/32 [==========================>...] - ETA: 0s - loss: 0.1117 - accuracy: 0.9677\n",
            "Epoch 204: saving model to model/point_history_classifier/point_history_classifier.hdf5\n",
            "32/32 [==============================] - 0s 14ms/step - loss: 0.1095 - accuracy: 0.9688 - val_loss: 0.0879 - val_accuracy: 0.9773\n",
            "Epoch 205/1000\n",
            "30/32 [===========================>..] - ETA: 0s - loss: 0.1048 - accuracy: 0.9708\n",
            "Epoch 205: saving model to model/point_history_classifier/point_history_classifier.hdf5\n",
            "32/32 [==============================] - 0s 14ms/step - loss: 0.1049 - accuracy: 0.9703 - val_loss: 0.0847 - val_accuracy: 0.9789\n",
            "Epoch 206/1000\n",
            "29/32 [==========================>...] - ETA: 0s - loss: 0.1156 - accuracy: 0.9642\n",
            "Epoch 206: saving model to model/point_history_classifier/point_history_classifier.hdf5\n",
            "32/32 [==============================] - 0s 14ms/step - loss: 0.1139 - accuracy: 0.9640 - val_loss: 0.0862 - val_accuracy: 0.9781\n",
            "Epoch 207/1000\n",
            "29/32 [==========================>...] - ETA: 0s - loss: 0.1096 - accuracy: 0.9679\n",
            "Epoch 207: saving model to model/point_history_classifier/point_history_classifier.hdf5\n",
            "32/32 [==============================] - 0s 15ms/step - loss: 0.1078 - accuracy: 0.9680 - val_loss: 0.0845 - val_accuracy: 0.9811\n",
            "Epoch 208/1000\n",
            "31/32 [============================>.] - ETA: 0s - loss: 0.1293 - accuracy: 0.9599\n",
            "Epoch 208: saving model to model/point_history_classifier/point_history_classifier.hdf5\n",
            "32/32 [==============================] - 1s 16ms/step - loss: 0.1292 - accuracy: 0.9600 - val_loss: 0.0879 - val_accuracy: 0.9789\n",
            "Epoch 209/1000\n",
            "29/32 [==========================>...] - ETA: 0s - loss: 0.1110 - accuracy: 0.9666\n",
            "Epoch 209: saving model to model/point_history_classifier/point_history_classifier.hdf5\n",
            "32/32 [==============================] - 1s 17ms/step - loss: 0.1077 - accuracy: 0.9680 - val_loss: 0.0843 - val_accuracy: 0.9804\n",
            "Epoch 210/1000\n",
            "29/32 [==========================>...] - ETA: 0s - loss: 0.1021 - accuracy: 0.9709\n",
            "Epoch 210: saving model to model/point_history_classifier/point_history_classifier.hdf5\n",
            "32/32 [==============================] - 1s 16ms/step - loss: 0.1094 - accuracy: 0.9685 - val_loss: 0.0886 - val_accuracy: 0.9789\n",
            "Epoch 211/1000\n",
            "28/32 [=========================>....] - ETA: 0s - loss: 0.1653 - accuracy: 0.9540\n",
            "Epoch 211: saving model to model/point_history_classifier/point_history_classifier.hdf5\n",
            "32/32 [==============================] - 0s 15ms/step - loss: 0.1670 - accuracy: 0.9532 - val_loss: 0.0946 - val_accuracy: 0.9705\n",
            "Epoch 212/1000\n",
            "31/32 [============================>.] - ETA: 0s - loss: 0.1135 - accuracy: 0.9657\n",
            "Epoch 212: saving model to model/point_history_classifier/point_history_classifier.hdf5\n",
            "32/32 [==============================] - 1s 16ms/step - loss: 0.1135 - accuracy: 0.9658 - val_loss: 0.0904 - val_accuracy: 0.9773\n",
            "Epoch 213/1000\n",
            "30/32 [===========================>..] - ETA: 0s - loss: 0.1076 - accuracy: 0.9669\n",
            "Epoch 213: saving model to model/point_history_classifier/point_history_classifier.hdf5\n",
            "32/32 [==============================] - 1s 16ms/step - loss: 0.1088 - accuracy: 0.9670 - val_loss: 0.0903 - val_accuracy: 0.9773\n",
            "Epoch 214/1000\n",
            "29/32 [==========================>...] - ETA: 0s - loss: 0.1050 - accuracy: 0.9666\n",
            "Epoch 214: saving model to model/point_history_classifier/point_history_classifier.hdf5\n",
            "32/32 [==============================] - 1s 17ms/step - loss: 0.1046 - accuracy: 0.9668 - val_loss: 0.0886 - val_accuracy: 0.9789\n",
            "Epoch 215/1000\n",
            "29/32 [==========================>...] - ETA: 0s - loss: 0.1098 - accuracy: 0.9671\n",
            "Epoch 215: saving model to model/point_history_classifier/point_history_classifier.hdf5\n",
            "32/32 [==============================] - 1s 16ms/step - loss: 0.1076 - accuracy: 0.9680 - val_loss: 0.0884 - val_accuracy: 0.9789\n",
            "Epoch 216/1000\n",
            "30/32 [===========================>..] - ETA: 0s - loss: 0.1104 - accuracy: 0.9661\n",
            "Epoch 216: saving model to model/point_history_classifier/point_history_classifier.hdf5\n",
            "32/32 [==============================] - 1s 16ms/step - loss: 0.1100 - accuracy: 0.9663 - val_loss: 0.0882 - val_accuracy: 0.9781\n",
            "Epoch 217/1000\n",
            "31/32 [============================>.] - ETA: 0s - loss: 0.1041 - accuracy: 0.9688\n",
            "Epoch 217: saving model to model/point_history_classifier/point_history_classifier.hdf5\n",
            "32/32 [==============================] - 1s 16ms/step - loss: 0.1040 - accuracy: 0.9688 - val_loss: 0.0918 - val_accuracy: 0.9781\n",
            "Epoch 218/1000\n",
            "31/32 [============================>.] - ETA: 0s - loss: 0.1047 - accuracy: 0.9667\n",
            "Epoch 218: saving model to model/point_history_classifier/point_history_classifier.hdf5\n",
            "32/32 [==============================] - 1s 16ms/step - loss: 0.1046 - accuracy: 0.9668 - val_loss: 0.0885 - val_accuracy: 0.9781\n",
            "Epoch 219/1000\n",
            "31/32 [============================>.] - ETA: 0s - loss: 0.1049 - accuracy: 0.9665\n",
            "Epoch 219: saving model to model/point_history_classifier/point_history_classifier.hdf5\n",
            "32/32 [==============================] - 1s 16ms/step - loss: 0.1048 - accuracy: 0.9665 - val_loss: 0.0865 - val_accuracy: 0.9789\n",
            "Epoch 220/1000\n",
            "32/32 [==============================] - ETA: 0s - loss: 0.1027 - accuracy: 0.9688\n",
            "Epoch 220: saving model to model/point_history_classifier/point_history_classifier.hdf5\n",
            "32/32 [==============================] - 1s 18ms/step - loss: 0.1027 - accuracy: 0.9688 - val_loss: 0.0866 - val_accuracy: 0.9804\n",
            "Epoch 221/1000\n",
            "30/32 [===========================>..] - ETA: 0s - loss: 0.1022 - accuracy: 0.9672\n",
            "Epoch 221: saving model to model/point_history_classifier/point_history_classifier.hdf5\n",
            "32/32 [==============================] - 1s 16ms/step - loss: 0.1025 - accuracy: 0.9675 - val_loss: 0.0922 - val_accuracy: 0.9773\n",
            "Epoch 222/1000\n",
            "28/32 [=========================>....] - ETA: 0s - loss: 0.1062 - accuracy: 0.9685\n",
            "Epoch 222: saving model to model/point_history_classifier/point_history_classifier.hdf5\n",
            "32/32 [==============================] - 1s 17ms/step - loss: 0.1087 - accuracy: 0.9673 - val_loss: 0.0880 - val_accuracy: 0.9781\n",
            "Epoch 223/1000\n",
            "30/32 [===========================>..] - ETA: 0s - loss: 0.1063 - accuracy: 0.9664\n",
            "Epoch 223: saving model to model/point_history_classifier/point_history_classifier.hdf5\n",
            "32/32 [==============================] - 1s 16ms/step - loss: 0.1068 - accuracy: 0.9670 - val_loss: 0.0883 - val_accuracy: 0.9781\n",
            "Epoch 224/1000\n",
            "31/32 [============================>.] - ETA: 0s - loss: 0.1070 - accuracy: 0.9657\n",
            "Epoch 224: saving model to model/point_history_classifier/point_history_classifier.hdf5\n",
            "32/32 [==============================] - 1s 18ms/step - loss: 0.1069 - accuracy: 0.9658 - val_loss: 0.0863 - val_accuracy: 0.9796\n",
            "Epoch 225/1000\n",
            "30/32 [===========================>..] - ETA: 0s - loss: 0.1096 - accuracy: 0.9659\n",
            "Epoch 225: saving model to model/point_history_classifier/point_history_classifier.hdf5\n",
            "32/32 [==============================] - 1s 17ms/step - loss: 0.1078 - accuracy: 0.9665 - val_loss: 0.0927 - val_accuracy: 0.9789\n",
            "Epoch 226/1000\n",
            "28/32 [=========================>....] - ETA: 0s - loss: 0.1166 - accuracy: 0.9623\n",
            "Epoch 226: saving model to model/point_history_classifier/point_history_classifier.hdf5\n",
            "32/32 [==============================] - 1s 17ms/step - loss: 0.1165 - accuracy: 0.9622 - val_loss: 0.0990 - val_accuracy: 0.9758\n",
            "Epoch 227/1000\n",
            "31/32 [============================>.] - ETA: 0s - loss: 0.1329 - accuracy: 0.9602\n",
            "Epoch 227: saving model to model/point_history_classifier/point_history_classifier.hdf5\n",
            "32/32 [==============================] - 1s 16ms/step - loss: 0.1328 - accuracy: 0.9602 - val_loss: 0.0926 - val_accuracy: 0.9766\n",
            "Epoch 228/1000\n",
            "30/32 [===========================>..] - ETA: 0s - loss: 0.1106 - accuracy: 0.9651\n",
            "Epoch 228: saving model to model/point_history_classifier/point_history_classifier.hdf5\n",
            "32/32 [==============================] - 1s 16ms/step - loss: 0.1096 - accuracy: 0.9658 - val_loss: 0.0895 - val_accuracy: 0.9766\n",
            "Epoch 229/1000\n",
            "29/32 [==========================>...] - ETA: 0s - loss: 0.0977 - accuracy: 0.9728\n",
            "Epoch 229: saving model to model/point_history_classifier/point_history_classifier.hdf5\n",
            "32/32 [==============================] - 1s 18ms/step - loss: 0.0977 - accuracy: 0.9733 - val_loss: 0.0860 - val_accuracy: 0.9758\n",
            "Epoch 229: early stopping\n"
          ]
        },
        {
          "output_type": "execute_result",
          "data": {
            "text/plain": [
              "<keras.callbacks.History at 0x7f0dff8d6750>"
            ]
          },
          "metadata": {},
          "execution_count": 89
        }
      ],
      "source": [
        "model.fit(\n",
        "    X_train,\n",
        "    y_train,\n",
        "    epochs=1000,\n",
        "    batch_size=128,\n",
        "    validation_data=(X_test, y_test),\n",
        "    callbacks=[cp_callback, es_callback]\n",
        ")"
      ]
    },
    {
      "cell_type": "code",
      "execution_count": 90,
      "metadata": {
        "id": "UndgdmVrvIf0"
      },
      "outputs": [],
      "source": [
        "# 保存したモデルのロード\n",
        "model = tf.keras.models.load_model(model_save_path)"
      ]
    },
    {
      "cell_type": "code",
      "execution_count": 91,
      "metadata": {
        "colab": {
          "base_uri": "https://localhost:8080/"
        },
        "id": "i-mNsRi9vIf0",
        "outputId": "f5746001-b70b-437b-adb5-29082c1bd715"
      },
      "outputs": [
        {
          "output_type": "stream",
          "name": "stdout",
          "text": [
            "[9.5907634e-01 1.3251816e-03 5.7662022e-04 3.9021906e-02]\n",
            "0\n"
          ]
        }
      ],
      "source": [
        "# 推論テスト\n",
        "predict_result = model.predict(np.array([X_test[0]]))\n",
        "print(np.squeeze(predict_result))\n",
        "print(np.argmax(np.squeeze(predict_result)))"
      ]
    },
    {
      "cell_type": "markdown",
      "metadata": {
        "id": "h1crca9AvIf1"
      },
      "source": [
        "# 混同行列"
      ]
    },
    {
      "cell_type": "markdown",
      "source": [
        "## 1. 非LSTM"
      ],
      "metadata": {
        "id": "y2_-4Z6gxdjr"
      }
    },
    {
      "cell_type": "code",
      "execution_count": 16,
      "metadata": {
        "colab": {
          "base_uri": "https://localhost:8080/",
          "height": 582
        },
        "id": "5jZ_v27IvIf1",
        "outputId": "b58c0015-bddb-4064-9bd2-023f681c3ec9"
      },
      "outputs": [
        {
          "output_type": "display_data",
          "data": {
            "text/plain": [
              "<Figure size 504x432 with 2 Axes>"
            ],
            "image/png": "[encoded data removed]"
          },
          "metadata": {
            "needs_background": "light"
          }
        },
        {
          "output_type": "stream",
          "name": "stdout",
          "text": [
            "Classification Report\n",
            "              precision    recall  f1-score   support\n",
            "\n",
            "           0       0.99      1.00      0.99       395\n",
            "           1       0.95      0.98      0.97       295\n",
            "           2       0.93      0.98      0.95       307\n",
            "           3       0.97      0.87      0.92       327\n",
            "\n",
            "    accuracy                           0.96      1324\n",
            "   macro avg       0.96      0.96      0.96      1324\n",
            "weighted avg       0.96      0.96      0.96      1324\n",
            "\n"
          ]
        }
      ],
      "source": [
        "import pandas as pd\n",
        "import seaborn as sns\n",
        "import matplotlib.pyplot as plt\n",
        "from sklearn.metrics import confusion_matrix, classification_report\n",
        "\n",
        "def print_confusion_matrix(y_true, y_pred, report=True):\n",
        "    labels = sorted(list(set(y_true)))\n",
        "    cmx_data = confusion_matrix(y_true, y_pred, labels=labels)\n",
        "    \n",
        "    df_cmx = pd.DataFrame(cmx_data, index=labels, columns=labels)\n",
        " \n",
        "    fig, ax = plt.subplots(figsize=(7, 6))\n",
        "    sns.heatmap(df_cmx, annot=True, fmt='g' ,square=False)\n",
        "    ax.set_ylim(len(set(y_true)), 0)\n",
        "    plt.show()\n",
        "    \n",
        "    if report:\n",
        "        print('Classification Report')\n",
        "        print(classification_report(y_test, y_pred))\n",
        "\n",
        "Y_pred = model.predict(X_test)\n",
        "y_pred = np.argmax(Y_pred, axis=1)\n",
        "\n",
        "print_confusion_matrix(y_test, y_pred)"
      ]
    },
    {
      "cell_type": "markdown",
      "source": [
        "## 2. LSTM"
      ],
      "metadata": {
        "id": "_ri2DWcZxiK_"
      }
    },
    {
      "cell_type": "code",
      "source": [
        "import pandas as pd\n",
        "import seaborn as sns\n",
        "import matplotlib.pyplot as plt\n",
        "from sklearn.metrics import confusion_matrix, classification_report\n",
        "\n",
        "def print_confusion_matrix(y_true, y_pred, report=True):\n",
        "    labels = sorted(list(set(y_true)))\n",
        "    cmx_data = confusion_matrix(y_true, y_pred, labels=labels)\n",
        "    \n",
        "    df_cmx = pd.DataFrame(cmx_data, index=labels, columns=labels)\n",
        " \n",
        "    fig, ax = plt.subplots(figsize=(7, 6))\n",
        "    sns.heatmap(df_cmx, annot=True, fmt='g' ,square=False)\n",
        "    ax.set_ylim(len(set(y_true)), 0)\n",
        "    plt.show()\n",
        "    \n",
        "    if report:\n",
        "        print('Classification Report')\n",
        "        print(classification_report(y_test, y_pred))\n",
        "\n",
        "Y_pred = model.predict(X_test)\n",
        "y_pred = np.argmax(Y_pred, axis=1)\n",
        "\n",
        "print_confusion_matrix(y_test, y_pred)"
      ],
      "metadata": {
        "colab": {
          "base_uri": "https://localhost:8080/",
          "height": 582
        },
        "id": "6QMeLAWXxOn6",
        "outputId": "264bde3b-a727-4f7e-8719-110ca953627a"
      },
      "execution_count": 92,
      "outputs": [
        {
          "output_type": "display_data",
          "data": {
            "text/plain": [
              "<Figure size 504x432 with 2 Axes>"
            ],
            "image/png": "[encoded data removed]"
          },
          "metadata": {
            "needs_background": "light"
          }
        },
        {
          "output_type": "stream",
          "name": "stdout",
          "text": [
            "Classification Report\n",
            "              precision    recall  f1-score   support\n",
            "\n",
            "           0       0.99      1.00      0.99       395\n",
            "           1       0.99      0.98      0.98       295\n",
            "           2       0.96      0.98      0.97       307\n",
            "           3       0.96      0.94      0.95       327\n",
            "\n",
            "    accuracy                           0.98      1324\n",
            "   macro avg       0.98      0.97      0.98      1324\n",
            "weighted avg       0.98      0.98      0.98      1324\n",
            "\n"
          ]
        }
      ]
    },
    {
      "cell_type": "markdown",
      "metadata": {
        "id": "bJuzeaNvvIf1"
      },
      "source": [
        "# Tensorflow-Lite用のモデルへ変換"
      ]
    },
    {
      "cell_type": "code",
      "execution_count": 93,
      "metadata": {
        "colab": {
          "base_uri": "https://localhost:8080/"
        },
        "id": "p-69qqNEvIf1",
        "outputId": "a3ecf5f2-9701-4135-c74f-8dbb49b90f47"
      },
      "outputs": [
        {
          "output_type": "stream",
          "name": "stderr",
          "text": [
            "WARNING:tensorflow:No training configuration found in the save file, so the model was *not* compiled. Compile it manually.\n"
          ]
        }
      ],
      "source": [
        "# 推論専用のモデルとして保存\n",
        "model.save(model_save_path, include_optimizer=False)\n",
        "model = tf.keras.models.load_model(model_save_path)"
      ]
    },
    {
      "cell_type": "code",
      "execution_count": 100,
      "metadata": {
        "id": "Lmuf-AvHvIf1"
      },
      "outputs": [],
      "source": [
        "tflite_save_path = 'model/point_history_classifier/point_history_classifier.tflite'\n",
        "saved_model_path = 'saved_model'"
      ]
    },
    {
      "cell_type": "code",
      "source": [
        "tf.saved_model.save(model, saved_model_path)"
      ],
      "metadata": {
        "colab": {
          "base_uri": "https://localhost:8080/"
        },
        "id": "ng1Cd-x_15Rb",
        "outputId": "b047557f-cfee-4e71-8c10-59abfae0978d"
      },
      "execution_count": 95,
      "outputs": [
        {
          "output_type": "stream",
          "name": "stderr",
          "text": [
            "WARNING:absl:Found untraced functions such as lstm_cell_13_layer_call_fn, lstm_cell_13_layer_call_and_return_conditional_losses while saving (showing 2 of 2). These functions will not be directly callable after loading.\n"
          ]
        }
      ]
    },
    {
      "cell_type": "code",
      "execution_count": 96,
      "metadata": {
        "colab": {
          "base_uri": "https://localhost:8080/"
        },
        "id": "FhyT5-_rvIf1",
        "outputId": "81509bbf-717a-4bc7-fcae-172dae78d19a"
      },
      "outputs": [
        {
          "output_type": "execute_result",
          "data": {
            "text/plain": [
              "15008"
            ]
          },
          "metadata": {},
          "execution_count": 96
        }
      ],
      "source": [
        "# モデルを変換\n",
        "converter = tf.lite.TFLiteConverter.from_saved_model(saved_model_path)\n",
        "converter.optimizations = [tf.lite.Optimize.DEFAULT]\n",
        "converter.target_spec.supported_ops = [tf.lite.OpsSet.TFLITE_BUILTINS, tf.lite.OpsSet.SELECT_TF_OPS]\n",
        "tflite_quantized_model = converter.convert()\n",
        "\n",
        "open(tflite_save_path, 'wb').write(tflite_quantized_model)"
      ]
    },
    {
      "cell_type": "code",
      "source": [
        "!pip install tf2onnx onnxsim"
      ],
      "metadata": {
        "colab": {
          "base_uri": "https://localhost:8080/"
        },
        "id": "rAoFH8f_T4bF",
        "outputId": "f404d4e2-a5f8-44f4-a697-8cfac43c483c"
      },
      "execution_count": 106,
      "outputs": [
        {
          "output_type": "stream",
          "name": "stdout",
          "text": [
            "Looking in indexes: https://pypi.org/simple, https://us-python.pkg.dev/colab-wheels/public/simple/\n",
            "Requirement already satisfied: tf2onnx in /usr/local/lib/python3.7/dist-packages (1.12.0)\n",
            "Collecting onnxsim\n",
            "  Downloading onnxsim-0.4.8-cp37-cp37m-manylinux_2_17_x86_64.manylinux2014_x86_64.whl (2.0 MB)\n",
            "\u001b[K     |████████████████████████████████| 2.0 MB 8.8 MB/s \n",
            "\u001b[?25hRequirement already satisfied: onnx>=1.4.1 in /usr/local/lib/python3.7/dist-packages (from tf2onnx) (1.12.0)\n",
            "Requirement already satisfied: flatbuffers~=1.12 in /usr/local/lib/python3.7/dist-packages (from tf2onnx) (1.12)\n",
            "Requirement already satisfied: numpy>=1.14.1 in /usr/local/lib/python3.7/dist-packages (from tf2onnx) (1.21.6)\n",
            "Requirement already satisfied: six in /usr/local/lib/python3.7/dist-packages (from tf2onnx) (1.15.0)\n",
            "Requirement already satisfied: requests in /usr/local/lib/python3.7/dist-packages (from tf2onnx) (2.23.0)\n",
            "Requirement already satisfied: protobuf<=3.20.1,>=3.12.2 in /usr/local/lib/python3.7/dist-packages (from onnx>=1.4.1->tf2onnx) (3.17.3)\n",
            "Requirement already satisfied: typing-extensions>=3.6.2.1 in /usr/local/lib/python3.7/dist-packages (from onnx>=1.4.1->tf2onnx) (4.1.1)\n",
            "Collecting rich\n",
            "  Downloading rich-12.5.1-py3-none-any.whl (235 kB)\n",
            "\u001b[K     |████████████████████████████████| 235 kB 40.0 MB/s \n",
            "\u001b[?25hRequirement already satisfied: certifi>=2017.4.17 in /usr/local/lib/python3.7/dist-packages (from requests->tf2onnx) (2022.6.15)\n",
            "Requirement already satisfied: chardet<4,>=3.0.2 in /usr/local/lib/python3.7/dist-packages (from requests->tf2onnx) (3.0.4)\n",
            "Requirement already satisfied: idna<3,>=2.5 in /usr/local/lib/python3.7/dist-packages (from requests->tf2onnx) (2.10)\n",
            "Requirement already satisfied: urllib3!=1.25.0,!=1.25.1,<1.26,>=1.21.1 in /usr/local/lib/python3.7/dist-packages (from requests->tf2onnx) (1.24.3)\n",
            "Collecting commonmark<0.10.0,>=0.9.0\n",
            "  Downloading commonmark-0.9.1-py2.py3-none-any.whl (51 kB)\n",
            "\u001b[K     |████████████████████████████████| 51 kB 5.8 MB/s \n",
            "\u001b[?25hRequirement already satisfied: pygments<3.0.0,>=2.6.0 in /usr/local/lib/python3.7/dist-packages (from rich->onnxsim) (2.6.1)\n",
            "Installing collected packages: commonmark, rich, onnxsim\n",
            "Successfully installed commonmark-0.9.1 onnxsim-0.4.8 rich-12.5.1\n"
          ]
        }
      ]
    },
    {
      "cell_type": "markdown",
      "source": [
        "# ONNXへの変換"
      ],
      "metadata": {
        "id": "PA9TzY4cUEAX"
      }
    },
    {
      "cell_type": "code",
      "source": [
        "!python -m tf2onnx.convert --opset 11 --saved-model saved_model --output point_history_classifier.onnx"
      ],
      "metadata": {
        "colab": {
          "base_uri": "https://localhost:8080/"
        },
        "id": "5NXFcvxDUCUK",
        "outputId": "359e8933-fc40-4f49-c958-489116e6ac24"
      },
      "execution_count": 107,
      "outputs": [
        {
          "output_type": "stream",
          "name": "stdout",
          "text": [
            "2022-09-13 05:31:47.913032: E tensorflow/stream_executor/cuda/cuda_blas.cc:2981] Unable to register cuBLAS factory: Attempting to register factory for plugin cuBLAS when one has already been registered\n",
            "2022-09-13 05:31:50.053725: W tensorflow/stream_executor/platform/default/dso_loader.cc:64] Could not load dynamic library 'libnvinfer.so.7'; dlerror: libnvinfer.so.7: cannot open shared object file: No such file or directory; LD_LIBRARY_PATH: /usr/local/nvidia/lib:/usr/local/nvidia/lib64\n",
            "2022-09-13 05:31:50.053896: W tensorflow/stream_executor/platform/default/dso_loader.cc:64] Could not load dynamic library 'libnvinfer_plugin.so.7'; dlerror: libnvinfer_plugin.so.7: cannot open shared object file: No such file or directory; LD_LIBRARY_PATH: /usr/local/nvidia/lib:/usr/local/nvidia/lib64\n",
            "2022-09-13 05:31:50.053926: W tensorflow/compiler/tf2tensorrt/utils/py_utils.cc:38] TF-TRT Warning: Cannot dlopen some TensorRT libraries. If you would like to use Nvidia GPU with TensorRT, please make sure the missing libraries mentioned above are installed properly.\n",
            "/usr/lib/python3.7/runpy.py:125: RuntimeWarning: 'tf2onnx.convert' found in sys.modules after import of package 'tf2onnx', but prior to execution of 'tf2onnx.convert'; this may result in unpredictable behaviour\n",
            "  warn(RuntimeWarning(msg))\n",
            "2022-09-13 05:31:53.790182: E tensorflow/stream_executor/cuda/cuda_driver.cc:265] failed call to cuInit: CUDA_ERROR_NO_DEVICE: no CUDA-capable device is detected\n",
            "2022-09-13 05:31:53,791 - WARNING - '--tag' not specified for saved_model. Using --tag serve\n",
            "2022-09-13 05:31:55,742 - INFO - Signatures found in model: [serving_default].\n",
            "2022-09-13 05:31:55,743 - WARNING - '--signature_def' not specified, using first signature: serving_default\n",
            "2022-09-13 05:31:55,743 - INFO - Output names: ['dense_18']\n",
            "WARNING:tensorflow:From /usr/local/lib/python3.7/dist-packages/tf2onnx/tf_loader.py:711: extract_sub_graph (from tensorflow.python.framework.graph_util_impl) is deprecated and will be removed in a future version.\n",
            "Instructions for updating:\n",
            "Use `tf.compat.v1.graph_util.extract_sub_graph`\n",
            "2022-09-13 05:31:55,903 - WARNING - From /usr/local/lib/python3.7/dist-packages/tf2onnx/tf_loader.py:711: extract_sub_graph (from tensorflow.python.framework.graph_util_impl) is deprecated and will be removed in a future version.\n",
            "Instructions for updating:\n",
            "Use `tf.compat.v1.graph_util.extract_sub_graph`\n",
            "2022-09-13 05:31:55,953 - INFO - Using tensorflow=2.10.0, onnx=1.12.0, tf2onnx=1.12.0/a58786\n",
            "2022-09-13 05:31:55,953 - INFO - Using opset <onnx, 11>\n",
            "2022-09-13 05:31:55,999 - INFO - Computed 0 values for constant folding\n",
            "2022-09-13 05:31:56,005 - INFO - Computed 0 values for constant folding\n",
            "2022-09-13 05:31:56,036 - INFO - Computed 1 values for constant folding\n",
            "2022-09-13 05:31:56,054 - INFO - folding node using tf type=StridedSlice, name=StatefulPartitionedCall/sequential_8/lstm_7/PartitionedCall/strided_slice\n",
            "2022-09-13 05:31:56,116 - INFO - Optimizing ONNX model\n",
            "2022-09-13 05:31:56,262 - INFO - After optimization: Cast -4 (6->2), Concat -2 (3->1), Const -15 (28->13), Expand -1 (2->1), Identity -12 (12->0), Shape -1 (2->1), Slice -1 (2->1), Squeeze -2 (3->1), Unsqueeze -8 (9->1)\n",
            "2022-09-13 05:31:56,266 - INFO - \n",
            "2022-09-13 05:31:56,266 - INFO - Successfully converted TensorFlow model saved_model to ONNX\n",
            "2022-09-13 05:31:56,266 - INFO - Model inputs: ['input_9']\n",
            "2022-09-13 05:31:56,267 - INFO - Model outputs: ['dense_18']\n",
            "2022-09-13 05:31:56,267 - INFO - ONNX model is saved at point_history_classifier.onnx\n"
          ]
        }
      ]
    },
    {
      "cell_type": "code",
      "source": [
        "!onnxsim point_history_classifier.onnx point_history_classifier.onnx\n",
        "!onnxsim point_history_classifier.onnx point_history_classifier.onnx\n",
        "!onnxsim point_history_classifier.onnx point_history_classifier.onnx"
      ],
      "metadata": {
        "colab": {
          "base_uri": "https://localhost:8080/"
        },
        "id": "GUQbkaSeU4vK",
        "outputId": "131ce953-6fb3-482f-8346-ac77ce87bd36"
      },
      "execution_count": 108,
      "outputs": [
        {
          "output_type": "stream",
          "name": "stdout",
          "text": [
            "\u001b[1;35mInstalling onnxruntime by `/usr/bin/python3 -m pip install --user onnxruntime`, \u001b[0m\n",
            "\u001b[1;35mplease wait for a moment..\u001b[0m\n",
            "Looking in indexes: https://pypi.org/simple, https://us-python.pkg.dev/colab-wheels/public/simple/\n",
            "Collecting onnxruntime\n",
            "  Downloading onnxruntime-1.12.1-cp37-cp37m-manylinux_2_27_x86_64.whl (4.9 MB)\n",
            "\u001b[K     |████████████████████████████████| 4.9 MB 7.5 MB/s \n",
            "\u001b[?25hRequirement already satisfied: sympy in /usr/local/lib/python3.7/dist-packages (from onnxruntime) (1.7.1)\n",
            "Requirement already satisfied: packaging in /usr/local/lib/python3.7/dist-packages (from onnxruntime) (21.3)\n",
            "Requirement already satisfied: protobuf in /usr/local/lib/python3.7/dist-packages (from onnxruntime) (3.17.3)\n",
            "Collecting coloredlogs\n",
            "  Downloading coloredlogs-15.0.1-py2.py3-none-any.whl (46 kB)\n",
            "\u001b[K     |████████████████████████████████| 46 kB 2.9 MB/s \n",
            "\u001b[?25hRequirement already satisfied: flatbuffers in /usr/local/lib/python3.7/dist-packages (from onnxruntime) (1.12)\n",
            "Requirement already satisfied: numpy>=1.21.0 in /usr/local/lib/python3.7/dist-packages (from onnxruntime) (1.21.6)\n",
            "Collecting humanfriendly>=9.1\n",
            "  Downloading humanfriendly-10.0-py2.py3-none-any.whl (86 kB)\n",
            "\u001b[K     |████████████████████████████████| 86 kB 5.4 MB/s \n",
            "\u001b[?25hRequirement already satisfied: pyparsing!=3.0.5,>=2.0.2 in /usr/local/lib/python3.7/dist-packages (from packaging->onnxruntime) (3.0.9)\n",
            "Requirement already satisfied: six>=1.9 in /usr/local/lib/python3.7/dist-packages (from protobuf->onnxruntime) (1.15.0)\n",
            "Requirement already satisfied: mpmath>=0.19 in /usr/local/lib/python3.7/dist-packages (from sympy->onnxruntime) (1.2.1)\n",
            "Installing collected packages: humanfriendly, coloredlogs, onnxruntime\n",
            "\u001b[33m  WARNING: The script humanfriendly is installed in '/root/.local/bin' which is not on PATH.\n",
            "  Consider adding this directory to PATH or, if you prefer to suppress this warning, use --no-warn-script-location.\u001b[0m\n",
            "\u001b[33m  WARNING: The script coloredlogs is installed in '/root/.local/bin' which is not on PATH.\n",
            "  Consider adding this directory to PATH or, if you prefer to suppress this warning, use --no-warn-script-location.\u001b[0m\n",
            "\u001b[33m  WARNING: The script onnxruntime_test is installed in '/root/.local/bin' which is not on PATH.\n",
            "  Consider adding this directory to PATH or, if you prefer to suppress this warning, use --no-warn-script-location.\u001b[0m\n",
            "Successfully installed coloredlogs-15.0.1 humanfriendly-10.0 onnxruntime-1.12.1\n",
            "Traceback (most recent call last):\n",
            "  File \"/usr/local/lib/python3.7/dist-packages/onnxsim/onnx_simplifier.py\", line 18, in <module>\n",
            "    import onnxruntime as rt  # type: ignore\n",
            "ModuleNotFoundError: No module named 'onnxruntime'\n",
            "\n",
            "During handling of the above exception, another exception occurred:\n",
            "\n",
            "Traceback (most recent call last):\n",
            "  File \"/usr/local/bin/onnxsim\", line 5, in <module>\n",
            "    from onnxsim import main\n",
            "  File \"/usr/local/lib/python3.7/dist-packages/onnxsim/__init__.py\", line 1, in <module>\n",
            "    from onnxsim.onnx_simplifier import simplify, main\n",
            "  File \"/usr/local/lib/python3.7/dist-packages/onnxsim/onnx_simplifier.py\", line 24, in <module>\n",
            "    import onnxruntime as rt\n",
            "ModuleNotFoundError: No module named 'onnxruntime'\n",
            "Simplifying\u001b[33m...\u001b[0m\n",
            "Finish! Here is the difference:\n",
            "┏━━━━━━━━━━━━┳━━━━━━━━━━━━━━━━┳━━━━━━━━━━━━━━━━━━┓\n",
            "┃\u001b[1m \u001b[0m\u001b[1m          \u001b[0m\u001b[1m \u001b[0m┃\u001b[1m \u001b[0m\u001b[1mOriginal Model\u001b[0m\u001b[1m \u001b[0m┃\u001b[1m \u001b[0m\u001b[1mSimplified Model\u001b[0m\u001b[1m \u001b[0m┃\n",
            "┡━━━━━━━━━━━━╇━━━━━━━━━━━━━━━━╇━━━━━━━━━━━━━━━━━━┩\n",
            "│ Add        │ 2              │ 2                │\n",
            "│ Cast       │ 2              │ 2                │\n",
            "│ Concat     │ 1              │ 1                │\n",
            "│ Expand     │ 1              │ 1                │\n",
            "│ LSTM       │ 1              │ 1                │\n",
            "│ MatMul     │ 2              │ 2                │\n",
            "│ Relu       │ 1              │ 1                │\n",
            "│ Reshape    │ 2              │ 2                │\n",
            "│ Shape      │ 1              │ 1                │\n",
            "│ Slice      │ 1              │ 1                │\n",
            "│ Softmax    │ 1              │ 1                │\n",
            "│ Squeeze    │ 1              │ 1                │\n",
            "│ Transpose  │ 2              │ 2                │\n",
            "│ Unsqueeze  │ 1              │ 1                │\n",
            "│ Model Size │ 19.8KiB        │ 21.3KiB          │\n",
            "└────────────┴────────────────┴──────────────────┘\n",
            "Simplifying\u001b[33m...\u001b[0m\n",
            "Finish! Here is the difference:\n",
            "┏━━━━━━━━━━━━┳━━━━━━━━━━━━━━━━┳━━━━━━━━━━━━━━━━━━┓\n",
            "┃\u001b[1m \u001b[0m\u001b[1m          \u001b[0m\u001b[1m \u001b[0m┃\u001b[1m \u001b[0m\u001b[1mOriginal Model\u001b[0m\u001b[1m \u001b[0m┃\u001b[1m \u001b[0m\u001b[1mSimplified Model\u001b[0m\u001b[1m \u001b[0m┃\n",
            "┡━━━━━━━━━━━━╇━━━━━━━━━━━━━━━━╇━━━━━━━━━━━━━━━━━━┩\n",
            "│ Add        │ 2              │ 2                │\n",
            "│ Cast       │ 2              │ 2                │\n",
            "│ Concat     │ 1              │ 1                │\n",
            "│ Expand     │ 1              │ 1                │\n",
            "│ LSTM       │ 1              │ 1                │\n",
            "│ MatMul     │ 2              │ 2                │\n",
            "│ Relu       │ 1              │ 1                │\n",
            "│ Reshape    │ 2              │ 2                │\n",
            "│ Shape      │ 1              │ 1                │\n",
            "│ Slice      │ 1              │ 1                │\n",
            "│ Softmax    │ 1              │ 1                │\n",
            "│ Squeeze    │ 1              │ 1                │\n",
            "│ Transpose  │ 2              │ 2                │\n",
            "│ Unsqueeze  │ 1              │ 1                │\n",
            "│ Model Size │ 21.3KiB        │ 21.3KiB          │\n",
            "└────────────┴────────────────┴──────────────────┘\n"
          ]
        }
      ]
    },
    {
      "cell_type": "markdown",
      "metadata": {
        "id": "n5Jl26OLvIf2"
      },
      "source": [
        "# 推論テスト"
      ]
    },
    {
      "cell_type": "code",
      "execution_count": 97,
      "metadata": {
        "id": "ne_SRyCMvIf2"
      },
      "outputs": [],
      "source": [
        "interpreter = tf.lite.Interpreter(model_path=tflite_save_path)\n",
        "interpreter.allocate_tensors()"
      ]
    },
    {
      "cell_type": "code",
      "execution_count": null,
      "metadata": {
        "id": "3c_WoJQYvIf2",
        "outputId": "b890a4f3-976b-4e9a-9c92-d482d686ae42"
      },
      "outputs": [
        {
          "name": "stdout",
          "output_type": "stream",
          "text": [
            "[{'name': 'input_1', 'index': 0, 'shape': array([ 1, 32]), 'shape_signature': array([-1, 32]), 'dtype': <class 'numpy.float32'>, 'quantization': (0.0, 0), 'quantization_parameters': {'scales': array([], dtype=float32), 'zero_points': array([], dtype=int32), 'quantized_dimension': 0}, 'sparsity_parameters': {}}]\n"
          ]
        }
      ],
      "source": [
        "# 入出力テンソルを取得\n",
        "input_details = interpreter.get_input_details()\n",
        "output_details = interpreter.get_output_details()\n",
        "print(input_details)"
      ]
    },
    {
      "cell_type": "code",
      "execution_count": null,
      "metadata": {
        "id": "mUe7K3p4vIf2"
      },
      "outputs": [],
      "source": [
        "interpreter.set_tensor(input_details[0]['index'], np.array([X_test[0]]))"
      ]
    },
    {
      "cell_type": "code",
      "execution_count": null,
      "metadata": {
        "id": "qaTIiDI9vIf2",
        "outputId": "e040f0a9-266f-42fe-8274-c6c90195eac8"
      },
      "outputs": [
        {
          "name": "stdout",
          "output_type": "stream",
          "text": [
            "Wall time: 0 ns\n"
          ]
        }
      ],
      "source": [
        "%%time\n",
        "# 推論実施\n",
        "interpreter.invoke()\n",
        "tflite_results = interpreter.get_tensor(output_details[0]['index'])"
      ]
    },
    {
      "cell_type": "code",
      "execution_count": null,
      "metadata": {
        "id": "PcIXAVVPvIf2",
        "outputId": "97889009-e95a-420c-ccfc-fa8112543d06"
      },
      "outputs": [
        {
          "name": "stdout",
          "output_type": "stream",
          "text": [
            "[0.9579909  0.01342559 0.00907356 0.01950999]\n",
            "0\n"
          ]
        }
      ],
      "source": [
        "print(np.squeeze(tflite_results))\n",
        "print(np.argmax(np.squeeze(tflite_results)))"
      ]
    }
  ],
  "metadata": {
    "kernelspec": {
      "display_name": "Python 3",
      "language": "python",
      "name": "python3"
    },
    "language_info": {
      "codemirror_mode": {
        "name": "ipython",
        "version": 3
      },
      "file_extension": ".py",
      "mimetype": "text/x-python",
      "name": "python",
      "nbconvert_exporter": "python",
      "pygments_lexer": "ipython3",
      "version": "3.8.5"
    },
    "colab": {
      "provenance": [],
      "collapsed_sections": []
    }
  },
  "nbformat": 4,
  "nbformat_minor": 0
}